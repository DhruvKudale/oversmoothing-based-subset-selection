{
 "cells": [
  {
   "cell_type": "markdown",
   "id": "29358e0d-9a27-4c3d-a2b9-39308c479ef6",
   "metadata": {},
   "source": [
    "# Imports"
   ]
  },
  {
   "cell_type": "code",
   "execution_count": 1,
   "id": "eaee808c-f175-4086-ae6e-ac5337efe814",
   "metadata": {},
   "outputs": [],
   "source": [
    "import torch\n",
    "import torch.nn as nn\n",
    "import torch.optim as optim\n",
    "\n",
    "import pickle\n",
    "import random\n",
    "import pandas as pd\n",
    "from datasets import load_dataset\n",
    "from torch.utils.data import SubsetRandomSampler\n",
    "from sklearn.metrics import classification_report"
   ]
  },
  {
   "cell_type": "markdown",
   "id": "b9be4a12-e6b3-452d-bacd-b86240735ba9",
   "metadata": {},
   "source": [
    "# NeuralNetwork"
   ]
  },
  {
   "cell_type": "code",
   "execution_count": 2,
   "id": "e2ab4c76-334f-4081-8887-5604127f4d44",
   "metadata": {},
   "outputs": [],
   "source": [
    "class SimpleNN(nn.Module):\n",
    "    def __init__(self, input_size, hidden_size, output_size):\n",
    "        super(SimpleNN, self).__init__()\n",
    "        self.fc1 = nn.Linear(input_size, hidden_size)\n",
    "        self.fc2 = nn.Linear(hidden_size, output_size)\n",
    "        self.sigmoid = nn.Sigmoid()\n",
    "        self.relu = nn.ReLU()\n",
    "\n",
    "    def forward(self, x):\n",
    "        x = self.relu(self.fc1(x))\n",
    "        x = self.sigmoid(self.fc2(x))\n",
    "        return x\n",
    "\n",
    "\n",
    "def convert_to_ground_truth(predictions, threshold=0.5):\n",
    "    return (predictions > threshold).float()"
   ]
  },
  {
   "cell_type": "markdown",
   "id": "8a6ddf0e-b96b-4a99-a897-81a1878637a6",
   "metadata": {},
   "source": [
    "# Load dataset and embeddings"
   ]
  },
  {
   "cell_type": "markdown",
   "id": "c6ac7e13-600b-48f0-8392-b95cf0d6c36b",
   "metadata": {},
   "source": [
    "### Rotten Tomatoes"
   ]
  },
  {
   "cell_type": "code",
   "execution_count": 9,
   "id": "21ea94f3-c2e9-48a4-83c7-1b4072def189",
   "metadata": {},
   "outputs": [],
   "source": [
    "with open('./../data/embeddings/tomato-test-768.pkl', 'rb') as file:\n",
    "    test_x = pickle.load(file)\n",
    "\n",
    "with open('./../data/embeddings/tomato-train-768.pkl', 'rb') as file:\n",
    "    train_x = pickle.load(file)\n",
    "\n",
    "\n",
    "# NaiveGreedy\n",
    "# LazyGreedy\n",
    "# StochasticGreedy\n",
    "# LazierThanLazyGreedy\n",
    "\n",
    "with open('./../data/tomato_GC_LazyGreedy.pkl', 'rb') as file:\n",
    "    submodlib_data = pickle.load(file)\n",
    "\n",
    "dataset_name = \"rotten_tomatoes\"\n",
    "dataset = load_dataset(dataset_name)\n",
    "\n",
    "train_dataset = dataset[\"train\"]\n",
    "test_dataset = dataset[\"test\"]"
   ]
  },
  {
   "cell_type": "code",
   "execution_count": 4,
   "id": "d88a4364-24fc-4d46-bb4b-e544e4fe5ddf",
   "metadata": {},
   "outputs": [
    {
     "data": {
      "text/plain": [
       "6397"
      ]
     },
     "execution_count": 4,
     "metadata": {},
     "output_type": "execute_result"
    }
   ],
   "source": [
    "len(submodlib_data)"
   ]
  },
  {
   "cell_type": "markdown",
   "id": "17cc9874-5495-4a86-a4f7-f2b1ee7574fe",
   "metadata": {},
   "source": [
    "### OLID Dataset"
   ]
  },
  {
   "cell_type": "code",
   "execution_count": 5,
   "id": "5feae94e-0785-4fc5-a396-0b7510278868",
   "metadata": {},
   "outputs": [],
   "source": [
    "with open('./../data/embeddings/OLID-test-768.pkl', 'rb') as file:\n",
    "    test_x = pickle.load(file)\n",
    "\n",
    "with open('./../data/embeddings/OLID-train-768.pkl', 'rb') as file:\n",
    "    train_x = pickle.load(file)\n",
    "\n",
    "\n",
    "# NaiveGreedy\n",
    "# LazyGreedy\n",
    "# StochasticGreedy\n",
    "# LazierThanLazyGreedy\n",
    "\n",
    "with open('./../data/olid_DM_LazyGreedy.pkl', 'rb') as file:\n",
    "    submodlib_data = pickle.load(file)\n",
    "\n",
    "dataset_name = \"christophsonntag/OLID\"\n",
    "dataset = load_dataset(dataset_name)\n",
    "\n",
    "train_dataset_1 = dataset[\"train\"]\n",
    "test_dataset_1 = dataset[\"test\"]"
   ]
  },
  {
   "cell_type": "code",
   "execution_count": 6,
   "id": "4ba6696a-54d4-448d-9ce7-df0324dad9e8",
   "metadata": {},
   "outputs": [],
   "source": [
    "# test_dataset['text'] = test_dataset['cleaned_tweet']\n",
    "train_dataset, test_dataset = {}, {}\n",
    "test_dataset['label'] = [1 if tweet=='OFF' else 0 for tweet in test_dataset_1['subtask_a']]\n",
    "test_dataset['text'] = test_dataset_1['cleaned_tweet']\n",
    "\n",
    "train_dataset['label'] = [1 if tweet=='OFF' else 0 for tweet in train_dataset_1['subtask_a']]\n",
    "train_dataset['text'] = train_dataset_1['cleaned_tweet']"
   ]
  },
  {
   "cell_type": "code",
   "execution_count": 28,
   "id": "d01de1ba-5b52-4453-a82c-b93b40b1e88f",
   "metadata": {},
   "outputs": [
    {
     "data": {
      "text/plain": [
       "dict_values([4400, 8840])"
      ]
     },
     "execution_count": 28,
     "metadata": {},
     "output_type": "execute_result"
    }
   ],
   "source": [
    "from collections import Counter\n",
    "\n",
    "words = ['a', 'b', 'c', 'a']\n",
    "\n",
    "Counter(train_dataset['label']).keys() # equals to list(set(words))\n",
    "Counter(train_dataset['label']).values()"
   ]
  },
  {
   "cell_type": "code",
   "execution_count": null,
   "id": "4d83d464-7a12-4a2e-ae1b-5daf136995f0",
   "metadata": {},
   "outputs": [],
   "source": []
  },
  {
   "cell_type": "markdown",
   "id": "a6439eed-292e-4ebd-9d18-4410bdc9b1ce",
   "metadata": {
    "jp-MarkdownHeadingCollapsed": true
   },
   "source": [
    "### IMDB"
   ]
  },
  {
   "cell_type": "code",
   "execution_count": null,
   "id": "b474f61c-e0e4-4e97-bb87-ce7a28910bd1",
   "metadata": {},
   "outputs": [],
   "source": [
    "with open('./../data/embeddings/imdb-test-768.pkl', 'rb') as file:\n",
    "    test_x = pickle.load(file)\n",
    "\n",
    "with open('./../data/embeddings/imdb-train-768.pkl', 'rb') as file:\n",
    "    train_x = pickle.load(file)\n",
    "\n",
    "dataset_name = \"stanfordnlp/imdb\"\n",
    "dataset = load_dataset(dataset_name)\n",
    "\n",
    "train_dataset = dataset[\"train\"]\n",
    "test_dataset = dataset[\"test\"]"
   ]
  },
  {
   "cell_type": "markdown",
   "id": "1c6ac697-9a88-4a60-814b-0ab285d2e08b",
   "metadata": {},
   "source": [
    "### GLUE COLA"
   ]
  },
  {
   "cell_type": "code",
   "execution_count": 10,
   "id": "704e50e1-7537-4cb2-a6f6-fd7701f86ed1",
   "metadata": {},
   "outputs": [
    {
     "name": "stderr",
     "output_type": "stream",
     "text": [
      "Using the latest cached version of the dataset since glue couldn't be found on the Hugging Face Hub\n",
      "Found the latest cached dataset configuration 'cola' at /data/BADRI/.cache/huggingface/datasets/glue/cola/0.0.0/bcdcba79d07bc864c1c254ccfcedcce55bcc9a8c (last modified on Sun Apr 21 18:05:59 2024).\n"
     ]
    }
   ],
   "source": [
    "with open('./../data/embeddings/cola-test-768.pkl', 'rb') as file:\n",
    "    test_x = pickle.load(file)\n",
    "\n",
    "with open('./../data/embeddings/cola-val-768.pkl', 'rb') as file:\n",
    "    test_x = pickle.load(file)\n",
    "\n",
    "with open('./../data/embeddings/cola-train-768.pkl', 'rb') as file:\n",
    "    train_x = pickle.load(file)\n",
    "\n",
    "dataset = load_dataset(\"glue\", \"cola\")\n",
    "\n",
    "train_dataset = dataset[\"train\"]\n",
    "val_dataset = dataset[\"validation\"]\n",
    "test_dataset = dataset[\"test\"]\n",
    "\n",
    "test_dataset = dataset[\"validation\"]"
   ]
  },
  {
   "cell_type": "markdown",
   "id": "2fac105a-1f40-4108-9fe1-3544fa42f772",
   "metadata": {},
   "source": [
    "### GLUE SST2"
   ]
  },
  {
   "cell_type": "code",
   "execution_count": 3,
   "id": "33368fec-31b3-4966-8ea2-77d5a140b5e9",
   "metadata": {},
   "outputs": [
    {
     "name": "stderr",
     "output_type": "stream",
     "text": [
      "Using the latest cached version of the dataset since glue couldn't be found on the Hugging Face Hub\n",
      "Found the latest cached dataset configuration 'sst2' at /data/BADRI/.cache/huggingface/datasets/glue/sst2/0.0.0/bcdcba79d07bc864c1c254ccfcedcce55bcc9a8c (last modified on Wed Apr 17 20:15:20 2024).\n"
     ]
    }
   ],
   "source": [
    "with open('./../data/embeddings/sst2-test-768.pkl', 'rb') as file:\n",
    "    test_x = pickle.load(file)\n",
    "\n",
    "with open('./../data/embeddings/sst2-val-768.pkl', 'rb') as file:\n",
    "    test_x = pickle.load(file)\n",
    "\n",
    "with open('./../data/embeddings/sst2-train-768.pkl', 'rb') as file:\n",
    "    train_x = pickle.load(file)\n",
    "\n",
    "dataset = load_dataset(\"glue\", \"sst2\")\n",
    "\n",
    "train_dataset = dataset[\"train\"]\n",
    "val_dataset = dataset[\"validation\"]\n",
    "test_dataset = dataset[\"test\"]\n",
    "\n",
    "test_dataset = dataset[\"validation\"]"
   ]
  },
  {
   "cell_type": "code",
   "execution_count": null,
   "id": "e23d6e83-b63b-4077-a3de-9e591e82301b",
   "metadata": {},
   "outputs": [],
   "source": []
  },
  {
   "cell_type": "code",
   "execution_count": 4,
   "id": "267af4c3-8060-4979-8691-d70d23674a4b",
   "metadata": {},
   "outputs": [
    {
     "data": {
      "text/plain": [
       "Dataset({\n",
       "    features: ['text', 'label'],\n",
       "    num_rows: 8530\n",
       "})"
      ]
     },
     "execution_count": 4,
     "metadata": {},
     "output_type": "execute_result"
    }
   ],
   "source": [
    "train_dataset"
   ]
  },
  {
   "cell_type": "markdown",
   "id": "f9ec9fb5-eb0d-4653-bd25-c2d931b9bc00",
   "metadata": {},
   "source": [
    "### Entire Data"
   ]
  },
  {
   "cell_type": "code",
   "execution_count": null,
   "id": "4a809dd2-e398-4faf-999b-ec138e7d6e13",
   "metadata": {},
   "outputs": [],
   "source": [
    "torch.manual_seed(0)\n",
    "test_x = torch.squeeze(torch.stack([torch.tensor(arr) for arr in test_x]))\n",
    "train_x = torch.squeeze(torch.stack([torch.tensor(arr) for arr in train_x]))\n",
    "train_y = torch.squeeze(torch.tensor(train_dataset['label'], dtype=torch.float32))\n",
    "test_y = torch.squeeze(torch.tensor(test_dataset['label'], dtype=torch.float32))"
   ]
  },
  {
   "cell_type": "code",
   "execution_count": null,
   "id": "36ccaf2e-4a4a-4921-a4ec-b1311b57eb4f",
   "metadata": {},
   "outputs": [],
   "source": [
    "# percentages = [0.05, 0.1, 0.25, 0.4, 0.5, 0.6, 0.75, 0.8, 1]\n",
    "percentages = [0.05, 0.1, 0.25, 0.5, 0.75, 1]\n",
    "reports = []\n",
    "empty_df = pd.DataFrame()\n",
    "\n",
    "for percentage in percentages:\n",
    "\n",
    "\n",
    "    subset_train_x, subset_train_y = [], []\n",
    "    subset_data_val = int(percentage*len(train_x))\n",
    "    for index,score in submodlib_data[:subset_data_val]:\n",
    "        subset_train_x.append(train_x[index])\n",
    "        subset_train_y.append(train_y[index])\n",
    "\n",
    "    subset_train_x = torch.squeeze(torch.stack([torch.tensor(arr) for arr in subset_train_x]))\n",
    "    subset_train_y = torch.squeeze(torch.tensor(subset_train_y, dtype=torch.float32))\n",
    "    \n",
    "\n",
    "    hidden_size = 4 \n",
    "    output_size = 1\n",
    "    epochs = 5000\n",
    "\n",
    "\n",
    "    input_size = subset_train_x.shape[1]\n",
    "    model = SimpleNN(input_size, hidden_size, output_size)\n",
    "    \n",
    "    # Define loss function and optimizer\n",
    "    criterion = nn.BCELoss()\n",
    "    optimizer = optim.SGD(model.parameters(), lr=0.1)\n",
    "    \n",
    "    # Training loop\n",
    "    \n",
    "    for epoch in range(epochs):\n",
    "        # Forward pass\n",
    "        outputs = torch.squeeze(model(subset_train_x))\n",
    "        loss = criterion(outputs, subset_train_y)\n",
    "    \n",
    "        # Backward pass and optimization\n",
    "        optimizer.zero_grad()\n",
    "        loss.backward()\n",
    "        optimizer.step()\n",
    "    \n",
    "        # Print loss every 1000 epochs\n",
    "        if epoch % 1000 == 0:\n",
    "            print(f'Epoch {epoch}: Loss {loss.item()}')\n",
    "\n",
    "    predictions = convert_to_ground_truth(model(test_x))\n",
    "    report = classification_report(test_y.detach().numpy(), predictions.detach().numpy(), output_dict=True)\n",
    "    df = pd.DataFrame(report).transpose()\n",
    "    reports.append(df)"
   ]
  },
  {
   "cell_type": "code",
   "execution_count": 4,
   "id": "234b97ed-6a92-46d8-b0c8-62c85c64978a",
   "metadata": {},
   "outputs": [
    {
     "ename": "NameError",
     "evalue": "name 'reports' is not defined",
     "output_type": "error",
     "traceback": [
      "\u001b[0;31m---------------------------------------------------------------------------\u001b[0m",
      "\u001b[0;31mNameError\u001b[0m                                 Traceback (most recent call last)",
      "Cell \u001b[0;32mIn[4], line 1\u001b[0m\n\u001b[0;32m----> 1\u001b[0m result_df \u001b[38;5;241m=\u001b[39m pd\u001b[38;5;241m.\u001b[39mconcat(\u001b[43mreports\u001b[49m)\n\u001b[1;32m      2\u001b[0m result_df \u001b[38;5;241m=\u001b[39m result_df\u001b[38;5;241m.\u001b[39mround(\u001b[38;5;241m2\u001b[39m)\n\u001b[1;32m      3\u001b[0m result_df\u001b[38;5;241m.\u001b[39mto_csv(\u001b[38;5;124m\"\u001b[39m\u001b[38;5;124molid_disparitysum.csv\u001b[39m\u001b[38;5;124m\"\u001b[39m)\n",
      "\u001b[0;31mNameError\u001b[0m: name 'reports' is not defined"
     ]
    }
   ],
   "source": [
    "result_df = pd.concat(reports)\n",
    "result_df = result_df.round(2)\n",
    "result_df.to_csv(\"olid_disparitysum.csv\")"
   ]
  },
  {
   "cell_type": "code",
   "execution_count": null,
   "id": "0acefcec-8c7a-4256-90c8-93e336b5ec83",
   "metadata": {},
   "outputs": [],
   "source": []
  },
  {
   "cell_type": "code",
   "execution_count": null,
   "id": "12594c77-9790-43d0-92be-61971da5fae8",
   "metadata": {},
   "outputs": [],
   "source": []
  }
 ],
 "metadata": {
  "kernelspec": {
   "display_name": "Python 3 (ipykernel)",
   "language": "python",
   "name": "python3"
  },
  "language_info": {
   "codemirror_mode": {
    "name": "ipython",
    "version": 3
   },
   "file_extension": ".py",
   "mimetype": "text/x-python",
   "name": "python",
   "nbconvert_exporter": "python",
   "pygments_lexer": "ipython3",
   "version": "3.10.12"
  }
 },
 "nbformat": 4,
 "nbformat_minor": 5
}
