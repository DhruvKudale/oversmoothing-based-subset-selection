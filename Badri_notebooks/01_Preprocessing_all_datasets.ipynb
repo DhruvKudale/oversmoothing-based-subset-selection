{
 "cells": [
  {
   "cell_type": "markdown",
   "id": "ccd74933-cc05-45b6-b9c1-dc7444f521ea",
   "metadata": {},
   "source": [
    "# Imports"
   ]
  },
  {
   "cell_type": "code",
   "execution_count": 1,
   "id": "88cdf370-b800-4c0d-a2b9-21c7ed589ae7",
   "metadata": {},
   "outputs": [],
   "source": [
    "import pickle\n",
    "from datasets import load_dataset\n",
    "from sentence_transformers import SentenceTransformer\n",
    "from tqdm import tqdm"
   ]
  },
  {
   "cell_type": "markdown",
   "id": "4a39dd7d-923e-482a-83d8-40bb4f1c22b4",
   "metadata": {},
   "source": [
    "### Configurations"
   ]
  },
  {
   "cell_type": "code",
   "execution_count": 2,
   "id": "bcd003b3-f885-4606-a854-ddfd923e9d02",
   "metadata": {},
   "outputs": [],
   "source": [
    "# Tokenizer and fetching embeddings\n",
    "model = SentenceTransformer('sentence-transformers/all-mpnet-base-v2')"
   ]
  },
  {
   "cell_type": "markdown",
   "id": "50d18d82-3321-4c28-8668-8c93aa32fcba",
   "metadata": {},
   "source": [
    "# Datasets to use"
   ]
  },
  {
   "cell_type": "markdown",
   "id": "a722c7f8-da9e-4f6f-ac45-65283e6fc806",
   "metadata": {},
   "source": [
    "### IMDB Dataset"
   ]
  },
  {
   "cell_type": "code",
   "execution_count": 14,
   "id": "b028cba7-fe9f-47f5-9cab-8d51411e201e",
   "metadata": {},
   "outputs": [],
   "source": [
    "dataset_name = \"stanfordnlp/imdb\"\n",
    "dataset = load_dataset(dataset_name)"
   ]
  },
  {
   "cell_type": "markdown",
   "id": "c2691d96-6e99-4baa-8e91-47b6adf7a43e",
   "metadata": {},
   "source": [
    "### GLUE Dataset"
   ]
  },
  {
   "cell_type": "code",
   "execution_count": 9,
   "id": "c5431c15-670a-418d-93bc-20a78d6be89a",
   "metadata": {},
   "outputs": [],
   "source": [
    "dataset_name = \"glue\"\n",
    "\n",
    "# Possible GLUE Datasets\n",
    "# \"ax\", \"cola\", \"mnli\", \"mnli_matched\",  \"mnli_mismatched\", \"mrpc\", \"qnli\", \"qqp\", \"rte\", \"sst2\", \"stsb\", \"wnli\"\n",
    "dataset_arg = \"sst2\"\n",
    "\n",
    "dataset = load_dataset(dataset_name, dataset_arg)"
   ]
  },
  {
   "cell_type": "markdown",
   "id": "e371671a-0066-4754-bf7a-b34d631d1269",
   "metadata": {},
   "source": [
    "### SST2 standfordnlp"
   ]
  },
  {
   "cell_type": "code",
   "execution_count": 3,
   "id": "b200323b-487a-4d3c-9015-d365b5d5d05c",
   "metadata": {},
   "outputs": [
    {
     "data": {
      "application/vnd.jupyter.widget-view+json": {
       "model_id": "ea4318e96d954c2ca0a82020b018b11f",
       "version_major": 2,
       "version_minor": 0
      },
      "text/plain": [
       "Downloading readme:   0%|          | 0.00/5.27k [00:00<?, ?B/s]"
      ]
     },
     "metadata": {},
     "output_type": "display_data"
    },
    {
     "name": "stderr",
     "output_type": "stream",
     "text": [
      "Downloading data: 100%|██████████████████████████████████████████████████████████████████████████| 3.11M/3.11M [00:03<00:00, 980kB/s]\n",
      "Downloading data: 100%|█████████████████████████████████████████████████████████████████████████| 72.8k/72.8k [00:01<00:00, 39.3kB/s]\n",
      "Downloading data: 100%|███████████████████████████████████████████████████████████████████████████| 148k/148k [00:01<00:00, 78.4kB/s]\n"
     ]
    },
    {
     "data": {
      "application/vnd.jupyter.widget-view+json": {
       "model_id": "d1dbf2867a36432d993b160dd6bf6924",
       "version_major": 2,
       "version_minor": 0
      },
      "text/plain": [
       "Generating train split:   0%|          | 0/67349 [00:00<?, ? examples/s]"
      ]
     },
     "metadata": {},
     "output_type": "display_data"
    },
    {
     "data": {
      "application/vnd.jupyter.widget-view+json": {
       "model_id": "e44ad75dec0d4876bb8276f197f9ca46",
       "version_major": 2,
       "version_minor": 0
      },
      "text/plain": [
       "Generating validation split:   0%|          | 0/872 [00:00<?, ? examples/s]"
      ]
     },
     "metadata": {},
     "output_type": "display_data"
    },
    {
     "data": {
      "application/vnd.jupyter.widget-view+json": {
       "model_id": "8ba7a010cbb44fe983f7031028fa7d76",
       "version_major": 2,
       "version_minor": 0
      },
      "text/plain": [
       "Generating test split:   0%|          | 0/1821 [00:00<?, ? examples/s]"
      ]
     },
     "metadata": {},
     "output_type": "display_data"
    }
   ],
   "source": [
    "dataset_name = \"stanfordnlp/sst2\"\n",
    "dataset = load_dataset(dataset_name)"
   ]
  },
  {
   "cell_type": "markdown",
   "id": "f2c0ca12-3f62-4d02-a12d-2a45152b68eb",
   "metadata": {},
   "source": [
    "### Rotten Tomatoes"
   ]
  },
  {
   "cell_type": "code",
   "execution_count": 4,
   "id": "58233c35-da22-4c81-a7d8-ef2440b73912",
   "metadata": {},
   "outputs": [
    {
     "data": {
      "application/vnd.jupyter.widget-view+json": {
       "model_id": "997c544db9074f96898437ffdc026f73",
       "version_major": 2,
       "version_minor": 0
      },
      "text/plain": [
       "Downloading readme:   0%|          | 0.00/7.46k [00:00<?, ?B/s]"
      ]
     },
     "metadata": {},
     "output_type": "display_data"
    },
    {
     "name": "stderr",
     "output_type": "stream",
     "text": [
      "Downloading data: 100%|███████████████████████████████████████████████████████████████████████████| 699k/699k [00:00<00:00, 2.14MB/s]\n",
      "Downloading data: 100%|██████████████████████████████████████████████████████████████████████████| 90.0k/90.0k [00:00<00:00, 367kB/s]\n",
      "Downloading data: 100%|██████████████████████████████████████████████████████████████████████████| 92.2k/92.2k [00:00<00:00, 396kB/s]\n"
     ]
    },
    {
     "data": {
      "application/vnd.jupyter.widget-view+json": {
       "model_id": "8cfeb62fd0e647f694a26fff5d2051be",
       "version_major": 2,
       "version_minor": 0
      },
      "text/plain": [
       "Generating train split:   0%|          | 0/8530 [00:00<?, ? examples/s]"
      ]
     },
     "metadata": {},
     "output_type": "display_data"
    },
    {
     "data": {
      "application/vnd.jupyter.widget-view+json": {
       "model_id": "712cff8f7d4b4ed5bf7961b8bd647b6c",
       "version_major": 2,
       "version_minor": 0
      },
      "text/plain": [
       "Generating validation split:   0%|          | 0/1066 [00:00<?, ? examples/s]"
      ]
     },
     "metadata": {},
     "output_type": "display_data"
    },
    {
     "data": {
      "application/vnd.jupyter.widget-view+json": {
       "model_id": "1dba92e1488244e9ad1668668139bcd6",
       "version_major": 2,
       "version_minor": 0
      },
      "text/plain": [
       "Generating test split:   0%|          | 0/1066 [00:00<?, ? examples/s]"
      ]
     },
     "metadata": {},
     "output_type": "display_data"
    }
   ],
   "source": [
    "dataset_name = \"rotten_tomatoes\"\n",
    "dataset = load_dataset(dataset_name)"
   ]
  },
  {
   "cell_type": "markdown",
   "id": "3cd64b01-387a-4f94-83df-f4b45c460112",
   "metadata": {},
   "source": [
    "# Load Dataset"
   ]
  },
  {
   "cell_type": "code",
   "execution_count": 5,
   "id": "fc8af8f3-c52c-4d7a-8941-98c920f1bbac",
   "metadata": {},
   "outputs": [],
   "source": [
    "train_dataset = dataset[\"train\"]\n",
    "val_dataset = dataset[\"validation\"]\n",
    "test_dataset = dataset[\"test\"]"
   ]
  },
  {
   "cell_type": "code",
   "execution_count": 8,
   "id": "b48dd452-6123-4297-8b9b-e16e13fd96e7",
   "metadata": {},
   "outputs": [
    {
     "data": {
      "text/plain": [
       "Dataset({\n",
       "    features: ['text', 'label'],\n",
       "    num_rows: 1066\n",
       "})"
      ]
     },
     "execution_count": 8,
     "metadata": {},
     "output_type": "execute_result"
    }
   ],
   "source": [
    "test_dataset"
   ]
  },
  {
   "cell_type": "markdown",
   "id": "569d88ff-edb1-4326-9f17-6d6d28a1e7da",
   "metadata": {},
   "source": [
    "# Functions"
   ]
  },
  {
   "cell_type": "code",
   "execution_count": 7,
   "id": "5e91d82c-0755-4fd1-a42c-ac81c1e2b560",
   "metadata": {},
   "outputs": [],
   "source": [
    "def get_doc_embedding(document, model):\n",
    "    return model.encode(document)"
   ]
  },
  {
   "cell_type": "markdown",
   "id": "90a89a6e-9572-4c26-808d-861c00344ae1",
   "metadata": {},
   "source": [
    "# Save Embeddings"
   ]
  },
  {
   "cell_type": "markdown",
   "id": "2847768a-ba40-4d02-8bd9-6f5e1f67d5ec",
   "metadata": {},
   "source": [
    "### IMDB"
   ]
  },
  {
   "cell_type": "code",
   "execution_count": 18,
   "id": "68cf207a-e30f-4797-a37b-78172eea73d8",
   "metadata": {},
   "outputs": [
    {
     "name": "stderr",
     "output_type": "stream",
     "text": [
      "100%|██████████████████████████████████████████████████████████████████████| 25000/25000 [04:29<00:00, 92.83it/s]\n"
     ]
    }
   ],
   "source": [
    "test_doc_emb = []\n",
    "for item in tqdm(test_dataset):\n",
    "    sentence = item['text']\n",
    "    doc_emb = get_doc_embedding(sentence, model)\n",
    "    test_doc_emb.append(doc_emb)\n",
    "\n",
    "with open('./../data/embeddings/imdb-test-768.pkl', 'wb') as file:\n",
    "    # Serialize and write the variable to the file\n",
    "    pickle.dump(test_doc_emb, file)"
   ]
  },
  {
   "cell_type": "code",
   "execution_count": 19,
   "id": "3b23de3c-ef00-4dc2-94df-eb11445fb42d",
   "metadata": {},
   "outputs": [
    {
     "name": "stderr",
     "output_type": "stream",
     "text": [
      "100%|██████████████████████████████████████████████████████████████████████| 25000/25000 [04:33<00:00, 91.38it/s]\n"
     ]
    }
   ],
   "source": [
    "train_doc_emb = []\n",
    "for item in tqdm(train_dataset):\n",
    "    sentence = item['text']\n",
    "    doc_emb = get_doc_embedding(sentence, model)\n",
    "    train_doc_emb.append(doc_emb)\n",
    "\n",
    "with open('./../data/embeddings/imdb-train-768.pkl', 'wb') as file:\n",
    "    # Serialize and write the variable to the file\n",
    "    pickle.dump(train_doc_emb, file)"
   ]
  },
  {
   "cell_type": "markdown",
   "id": "95272510-ed77-4b09-ad39-e79dcf5228d0",
   "metadata": {},
   "source": [
    "### GLUE SST2"
   ]
  },
  {
   "cell_type": "code",
   "execution_count": 11,
   "id": "cf253c49-ddaf-4640-9f28-66660fe44bdb",
   "metadata": {},
   "outputs": [
    {
     "name": "stderr",
     "output_type": "stream",
     "text": [
      "100%|███████████████████████████████████████████████████████████████████████| 1821/1821 [00:16<00:00, 112.74it/s]\n"
     ]
    }
   ],
   "source": [
    "test_doc_emb = []\n",
    "for item in tqdm(test_dataset):\n",
    "    sentence = item['sentence']\n",
    "    doc_emb = get_doc_embedding(sentence, model)\n",
    "    test_doc_emb.append(doc_emb)\n",
    "\n",
    "with open('./../data/embeddings/sst2-test-768.pkl', 'wb') as file:\n",
    "    # Serialize and write the variable to the file\n",
    "    pickle.dump(test_doc_emb, file)"
   ]
  },
  {
   "cell_type": "code",
   "execution_count": 13,
   "id": "c4f2e6bb-85e2-4b44-8249-af22f96df0bb",
   "metadata": {},
   "outputs": [
    {
     "name": "stderr",
     "output_type": "stream",
     "text": [
      "100%|█████████████████████████████████████████████████████████████████████| 67349/67349 [09:37<00:00, 116.65it/s]\n"
     ]
    }
   ],
   "source": [
    "train_doc_emb = []\n",
    "for item in tqdm(train_dataset):\n",
    "    sentence = item['sentence']\n",
    "    doc_emb = get_doc_embedding(sentence, model)\n",
    "    train_doc_emb.append(doc_emb)\n",
    "\n",
    "with open('./../data/embeddings/sst2-train-768.pkl', 'wb') as file:\n",
    "    # Serialize and write the variable to the file\n",
    "    pickle.dump(train_doc_emb, file)"
   ]
  },
  {
   "cell_type": "code",
   "execution_count": 12,
   "id": "e4038476-8ee1-4783-bdea-a0a0bbae38a5",
   "metadata": {},
   "outputs": [
    {
     "name": "stderr",
     "output_type": "stream",
     "text": [
      "100%|█████████████████████████████████████████████████████████████████████████| 872/872 [00:07<00:00, 114.95it/s]\n"
     ]
    }
   ],
   "source": [
    "val_doc_emb = []\n",
    "for item in tqdm(val_dataset):\n",
    "    sentence = item['sentence']\n",
    "    doc_emb = get_doc_embedding(sentence, model)\n",
    "    val_doc_emb.append(doc_emb)\n",
    "\n",
    "with open('./../data/embeddings/sst2-val-768.pkl', 'wb') as file:\n",
    "    # Serialize and write the variable to the file\n",
    "    pickle.dump(val_doc_emb, file)"
   ]
  },
  {
   "cell_type": "markdown",
   "id": "c7a50baf-5dd3-430e-847f-3398bb7131e4",
   "metadata": {},
   "source": [
    "### GLUE COLA"
   ]
  },
  {
   "cell_type": "code",
   "execution_count": 6,
   "id": "23646b41-e6cd-4621-9f30-6e8091575172",
   "metadata": {},
   "outputs": [
    {
     "name": "stderr",
     "output_type": "stream",
     "text": [
      "100%|███████████████████████████████████████████████████████████████████████| 1063/1063 [00:10<00:00, 101.85it/s]\n"
     ]
    }
   ],
   "source": [
    "test_doc_emb = []\n",
    "for item in tqdm(test_dataset):\n",
    "    sentence = item['sentence']\n",
    "    doc_emb = get_doc_embedding(sentence, model)\n",
    "    test_doc_emb.append(doc_emb)\n",
    "\n",
    "with open('./../data/embeddings/cola-test-768.pkl', 'wb') as file:\n",
    "    # Serialize and write the variable to the file\n",
    "    pickle.dump(test_doc_emb, file)"
   ]
  },
  {
   "cell_type": "code",
   "execution_count": 7,
   "id": "c9c266ce-b80d-4398-b3bc-b0337de875a7",
   "metadata": {},
   "outputs": [
    {
     "name": "stderr",
     "output_type": "stream",
     "text": [
      "100%|███████████████████████████████████████████████████████████████████████| 8551/8551 [01:14<00:00, 115.21it/s]\n"
     ]
    }
   ],
   "source": [
    "train_doc_emb = []\n",
    "for item in tqdm(train_dataset):\n",
    "    sentence = item['sentence']\n",
    "    doc_emb = get_doc_embedding(sentence, model)\n",
    "    train_doc_emb.append(doc_emb)\n",
    "\n",
    "with open('./../data/embeddings/cola-train-768.pkl', 'wb') as file:\n",
    "    # Serialize and write the variable to the file\n",
    "    pickle.dump(train_doc_emb, file)"
   ]
  },
  {
   "cell_type": "code",
   "execution_count": 8,
   "id": "11d14bb0-06a4-4974-a6b2-c3bd44f5da5c",
   "metadata": {},
   "outputs": [
    {
     "name": "stderr",
     "output_type": "stream",
     "text": [
      "100%|███████████████████████████████████████████████████████████████████████| 1043/1043 [00:09<00:00, 114.56it/s]\n"
     ]
    }
   ],
   "source": [
    "val_doc_emb = []\n",
    "for item in tqdm(val_dataset):\n",
    "    sentence = item['sentence']\n",
    "    doc_emb = get_doc_embedding(sentence, model)\n",
    "    val_doc_emb.append(doc_emb)\n",
    "\n",
    "with open('./../data/embeddings/cola-val-768.pkl', 'wb') as file:\n",
    "    # Serialize and write the variable to the file\n",
    "    pickle.dump(val_doc_emb, file)"
   ]
  },
  {
   "cell_type": "markdown",
   "id": "99ec3786-77d0-4a82-a657-6e22572797b9",
   "metadata": {},
   "source": [
    "### Rotten Tomatoes"
   ]
  },
  {
   "cell_type": "code",
   "execution_count": 9,
   "id": "4d9a8ef8-46e5-4eff-a3f6-38cb0050c39d",
   "metadata": {},
   "outputs": [
    {
     "name": "stderr",
     "output_type": "stream",
     "text": [
      "100%|████████████████████████████████████████████████████████████████████████████████████████████| 1066/1066 [00:20<00:00, 52.09it/s]\n"
     ]
    }
   ],
   "source": [
    "test_doc_emb = []\n",
    "for item in tqdm(test_dataset):\n",
    "    sentence = item['text']\n",
    "    doc_emb = get_doc_embedding(sentence, model)\n",
    "    test_doc_emb.append(doc_emb)\n",
    "\n",
    "with open('./../data/embeddings/tomato-test-768.pkl', 'wb') as file:\n",
    "    # Serialize and write the variable to the file\n",
    "    pickle.dump(test_doc_emb, file)"
   ]
  },
  {
   "cell_type": "code",
   "execution_count": 11,
   "id": "99543dae-df78-4b69-98b2-0da586fb50d1",
   "metadata": {},
   "outputs": [
    {
     "name": "stderr",
     "output_type": "stream",
     "text": [
      "100%|████████████████████████████████████████████████████████████████████████████████████████████| 8530/8530 [02:05<00:00, 67.95it/s]\n"
     ]
    }
   ],
   "source": [
    "train_doc_emb = []\n",
    "for item in tqdm(train_dataset):\n",
    "    sentence = item['text']\n",
    "    doc_emb = get_doc_embedding(sentence, model)\n",
    "    train_doc_emb.append(doc_emb)\n",
    "\n",
    "with open('./../data/embeddings/tomato-train-768.pkl', 'wb') as file:\n",
    "    # Serialize and write the variable to the file\n",
    "    pickle.dump(train_doc_emb, file)"
   ]
  },
  {
   "cell_type": "code",
   "execution_count": 12,
   "id": "5a05b85d-cc81-44cd-bfdc-44ffa4c33297",
   "metadata": {},
   "outputs": [
    {
     "name": "stderr",
     "output_type": "stream",
     "text": [
      "100%|████████████████████████████████████████████████████████████████████████████████████████████| 1066/1066 [00:14<00:00, 71.94it/s]\n"
     ]
    }
   ],
   "source": [
    "val_doc_emb = []\n",
    "for item in tqdm(val_dataset):\n",
    "    sentence = item['text']\n",
    "    doc_emb = get_doc_embedding(sentence, model)\n",
    "    val_doc_emb.append(doc_emb)\n",
    "\n",
    "with open('./../data/embeddings/tomato-val-768.pkl', 'wb') as file:\n",
    "    # Serialize and write the variable to the file\n",
    "    pickle.dump(val_doc_emb, file)"
   ]
  },
  {
   "cell_type": "code",
   "execution_count": null,
   "id": "7e2c5bda-5d77-4e15-a33a-750493ac166c",
   "metadata": {},
   "outputs": [],
   "source": []
  }
 ],
 "metadata": {
  "kernelspec": {
   "display_name": "Python 3 (ipykernel)",
   "language": "python",
   "name": "python3"
  },
  "language_info": {
   "codemirror_mode": {
    "name": "ipython",
    "version": 3
   },
   "file_extension": ".py",
   "mimetype": "text/x-python",
   "name": "python",
   "nbconvert_exporter": "python",
   "pygments_lexer": "ipython3",
   "version": "3.10.12"
  }
 },
 "nbformat": 4,
 "nbformat_minor": 5
}
