{
 "cells": [
  {
   "cell_type": "markdown",
   "id": "ccd74933-cc05-45b6-b9c1-dc7444f521ea",
   "metadata": {},
   "source": [
    "# Imports"
   ]
  },
  {
   "cell_type": "code",
   "execution_count": 20,
   "id": "88cdf370-b800-4c0d-a2b9-21c7ed589ae7",
   "metadata": {},
   "outputs": [],
   "source": [
    "import pickle\n",
    "from datasets import load_dataset\n",
    "from sentence_transformers import SentenceTransformer\n",
    "from tqdm import tqdm"
   ]
  },
  {
   "cell_type": "markdown",
   "id": "4a39dd7d-923e-482a-83d8-40bb4f1c22b4",
   "metadata": {},
   "source": [
    "### Configurations"
   ]
  },
  {
   "cell_type": "code",
   "execution_count": 2,
   "id": "bcd003b3-f885-4606-a854-ddfd923e9d02",
   "metadata": {},
   "outputs": [],
   "source": [
    "# Tokenizer and fetching embeddings\n",
    "model = SentenceTransformer('sentence-transformers/all-mpnet-base-v2')"
   ]
  },
  {
   "cell_type": "markdown",
   "id": "50d18d82-3321-4c28-8668-8c93aa32fcba",
   "metadata": {},
   "source": [
    "# Datasets to use"
   ]
  },
  {
   "cell_type": "markdown",
   "id": "a722c7f8-da9e-4f6f-ac45-65283e6fc806",
   "metadata": {},
   "source": [
    "### IMDB Dataset"
   ]
  },
  {
   "cell_type": "code",
   "execution_count": 14,
   "id": "b028cba7-fe9f-47f5-9cab-8d51411e201e",
   "metadata": {},
   "outputs": [],
   "source": [
    "dataset_name = \"stanfordnlp/imdb\"\n",
    "dataset = load_dataset(dataset_name)"
   ]
  },
  {
   "cell_type": "markdown",
   "id": "c2691d96-6e99-4baa-8e91-47b6adf7a43e",
   "metadata": {},
   "source": [
    "### GLUE Dataset"
   ]
  },
  {
   "cell_type": "code",
   "execution_count": 9,
   "id": "c5431c15-670a-418d-93bc-20a78d6be89a",
   "metadata": {},
   "outputs": [],
   "source": [
    "dataset_name = \"glue\"\n",
    "\n",
    "# Possible GLUE Datasets\n",
    "# \"ax\", \"cola\", \"mnli\", \"mnli_matched\",  \"mnli_mismatched\", \"mrpc\", \"qnli\", \"qqp\", \"rte\", \"sst2\", \"stsb\", \"wnli\"\n",
    "dataset_arg = \"sst2\"\n",
    "\n",
    "dataset = load_dataset(dataset_name, dataset_arg)"
   ]
  },
  {
   "cell_type": "markdown",
   "id": "3cd64b01-387a-4f94-83df-f4b45c460112",
   "metadata": {},
   "source": [
    "# Load Dataset"
   ]
  },
  {
   "cell_type": "code",
   "execution_count": 17,
   "id": "fc8af8f3-c52c-4d7a-8941-98c920f1bbac",
   "metadata": {},
   "outputs": [],
   "source": [
    "train_dataset = dataset[\"train\"]\n",
    "# val_dataset = dataset[\"validation\"]\n",
    "test_dataset = dataset[\"test\"]"
   ]
  },
  {
   "cell_type": "markdown",
   "id": "569d88ff-edb1-4326-9f17-6d6d28a1e7da",
   "metadata": {},
   "source": [
    "# Functions"
   ]
  },
  {
   "cell_type": "code",
   "execution_count": 5,
   "id": "5e91d82c-0755-4fd1-a42c-ac81c1e2b560",
   "metadata": {},
   "outputs": [],
   "source": [
    "def get_doc_embedding(document, model):\n",
    "    return model.encode(document)"
   ]
  },
  {
   "cell_type": "markdown",
   "id": "90a89a6e-9572-4c26-808d-861c00344ae1",
   "metadata": {},
   "source": [
    "# Save Embeddings"
   ]
  },
  {
   "cell_type": "markdown",
   "id": "2847768a-ba40-4d02-8bd9-6f5e1f67d5ec",
   "metadata": {},
   "source": [
    "### IMDB"
   ]
  },
  {
   "cell_type": "code",
   "execution_count": 18,
   "id": "68cf207a-e30f-4797-a37b-78172eea73d8",
   "metadata": {},
   "outputs": [
    {
     "name": "stderr",
     "output_type": "stream",
     "text": [
      "100%|██████████████████████████████████████████████████████████████████████| 25000/25000 [04:29<00:00, 92.83it/s]\n"
     ]
    }
   ],
   "source": [
    "test_doc_emb = []\n",
    "for item in tqdm(test_dataset):\n",
    "    sentence = item['text']\n",
    "    doc_emb = get_doc_embedding(sentence, model)\n",
    "    test_doc_emb.append(doc_emb)\n",
    "\n",
    "with open('./../data/embeddings/imdb-test-768.pkl', 'wb') as file:\n",
    "    # Serialize and write the variable to the file\n",
    "    pickle.dump(test_doc_emb, file)"
   ]
  },
  {
   "cell_type": "code",
   "execution_count": 19,
   "id": "3b23de3c-ef00-4dc2-94df-eb11445fb42d",
   "metadata": {},
   "outputs": [
    {
     "name": "stderr",
     "output_type": "stream",
     "text": [
      "100%|██████████████████████████████████████████████████████████████████████| 25000/25000 [04:33<00:00, 91.38it/s]\n"
     ]
    }
   ],
   "source": [
    "train_doc_emb = []\n",
    "for item in tqdm(train_dataset):\n",
    "    sentence = item['text']\n",
    "    doc_emb = get_doc_embedding(sentence, model)\n",
    "    train_doc_emb.append(doc_emb)\n",
    "\n",
    "with open('./../data/embeddings/imdb-train-768.pkl', 'wb') as file:\n",
    "    # Serialize and write the variable to the file\n",
    "    pickle.dump(train_doc_emb, file)"
   ]
  },
  {
   "cell_type": "markdown",
   "id": "95272510-ed77-4b09-ad39-e79dcf5228d0",
   "metadata": {},
   "source": [
    "### GLUE SST2"
   ]
  },
  {
   "cell_type": "code",
   "execution_count": 11,
   "id": "cf253c49-ddaf-4640-9f28-66660fe44bdb",
   "metadata": {},
   "outputs": [
    {
     "name": "stderr",
     "output_type": "stream",
     "text": [
      "100%|███████████████████████████████████████████████████████████████████████| 1821/1821 [00:16<00:00, 112.74it/s]\n"
     ]
    }
   ],
   "source": [
    "test_doc_emb = []\n",
    "for item in tqdm(test_dataset):\n",
    "    sentence = item['sentence']\n",
    "    doc_emb = get_doc_embedding(sentence, model)\n",
    "    test_doc_emb.append(doc_emb)\n",
    "\n",
    "with open('./../data/embeddings/sst2-test-768.pkl', 'wb') as file:\n",
    "    # Serialize and write the variable to the file\n",
    "    pickle.dump(test_doc_emb, file)"
   ]
  },
  {
   "cell_type": "code",
   "execution_count": 13,
   "id": "c4f2e6bb-85e2-4b44-8249-af22f96df0bb",
   "metadata": {},
   "outputs": [
    {
     "name": "stderr",
     "output_type": "stream",
     "text": [
      "100%|█████████████████████████████████████████████████████████████████████| 67349/67349 [09:37<00:00, 116.65it/s]\n"
     ]
    }
   ],
   "source": [
    "train_doc_emb = []\n",
    "for item in tqdm(train_dataset):\n",
    "    sentence = item['sentence']\n",
    "    doc_emb = get_doc_embedding(sentence, model)\n",
    "    train_doc_emb.append(doc_emb)\n",
    "\n",
    "with open('./../data/embeddings/sst2-train-768.pkl', 'wb') as file:\n",
    "    # Serialize and write the variable to the file\n",
    "    pickle.dump(train_doc_emb, file)"
   ]
  },
  {
   "cell_type": "code",
   "execution_count": 12,
   "id": "e4038476-8ee1-4783-bdea-a0a0bbae38a5",
   "metadata": {},
   "outputs": [
    {
     "name": "stderr",
     "output_type": "stream",
     "text": [
      "100%|█████████████████████████████████████████████████████████████████████████| 872/872 [00:07<00:00, 114.95it/s]\n"
     ]
    }
   ],
   "source": [
    "val_doc_emb = []\n",
    "for item in tqdm(val_dataset):\n",
    "    sentence = item['sentence']\n",
    "    doc_emb = get_doc_embedding(sentence, model)\n",
    "    val_doc_emb.append(doc_emb)\n",
    "\n",
    "with open('./../data/embeddings/sst2-val-768.pkl', 'wb') as file:\n",
    "    # Serialize and write the variable to the file\n",
    "    pickle.dump(val_doc_emb, file)"
   ]
  },
  {
   "cell_type": "markdown",
   "id": "c7a50baf-5dd3-430e-847f-3398bb7131e4",
   "metadata": {},
   "source": [
    "### GLUE COLA"
   ]
  },
  {
   "cell_type": "code",
   "execution_count": 6,
   "id": "23646b41-e6cd-4621-9f30-6e8091575172",
   "metadata": {},
   "outputs": [
    {
     "name": "stderr",
     "output_type": "stream",
     "text": [
      "100%|███████████████████████████████████████████████████████████████████████| 1063/1063 [00:10<00:00, 101.85it/s]\n"
     ]
    }
   ],
   "source": [
    "test_doc_emb = []\n",
    "for item in tqdm(test_dataset):\n",
    "    sentence = item['sentence']\n",
    "    doc_emb = get_doc_embedding(sentence, model)\n",
    "    test_doc_emb.append(doc_emb)\n",
    "\n",
    "with open('./../data/embeddings/cola-test-768.pkl', 'wb') as file:\n",
    "    # Serialize and write the variable to the file\n",
    "    pickle.dump(test_doc_emb, file)"
   ]
  },
  {
   "cell_type": "code",
   "execution_count": 7,
   "id": "c9c266ce-b80d-4398-b3bc-b0337de875a7",
   "metadata": {},
   "outputs": [
    {
     "name": "stderr",
     "output_type": "stream",
     "text": [
      "100%|███████████████████████████████████████████████████████████████████████| 8551/8551 [01:14<00:00, 115.21it/s]\n"
     ]
    }
   ],
   "source": [
    "train_doc_emb = []\n",
    "for item in tqdm(train_dataset):\n",
    "    sentence = item['sentence']\n",
    "    doc_emb = get_doc_embedding(sentence, model)\n",
    "    train_doc_emb.append(doc_emb)\n",
    "\n",
    "with open('./../data/embeddings/cola-train-768.pkl', 'wb') as file:\n",
    "    # Serialize and write the variable to the file\n",
    "    pickle.dump(train_doc_emb, file)"
   ]
  },
  {
   "cell_type": "code",
   "execution_count": 8,
   "id": "11d14bb0-06a4-4974-a6b2-c3bd44f5da5c",
   "metadata": {},
   "outputs": [
    {
     "name": "stderr",
     "output_type": "stream",
     "text": [
      "100%|███████████████████████████████████████████████████████████████████████| 1043/1043 [00:09<00:00, 114.56it/s]\n"
     ]
    }
   ],
   "source": [
    "val_doc_emb = []\n",
    "for item in tqdm(val_dataset):\n",
    "    sentence = item['sentence']\n",
    "    doc_emb = get_doc_embedding(sentence, model)\n",
    "    val_doc_emb.append(doc_emb)\n",
    "\n",
    "with open('./../data/embeddings/cola-val-768.pkl', 'wb') as file:\n",
    "    # Serialize and write the variable to the file\n",
    "    pickle.dump(val_doc_emb, file)"
   ]
  },
  {
   "cell_type": "code",
   "execution_count": null,
   "id": "e6809268-162d-4384-82d8-ad921ea8f3ca",
   "metadata": {},
   "outputs": [],
   "source": []
  }
 ],
 "metadata": {
  "kernelspec": {
   "display_name": "Python 3 (ipykernel)",
   "language": "python",
   "name": "python3"
  },
  "language_info": {
   "codemirror_mode": {
    "name": "ipython",
    "version": 3
   },
   "file_extension": ".py",
   "mimetype": "text/x-python",
   "name": "python",
   "nbconvert_exporter": "python",
   "pygments_lexer": "ipython3",
   "version": "3.10.12"
  }
 },
 "nbformat": 4,
 "nbformat_minor": 5
}
