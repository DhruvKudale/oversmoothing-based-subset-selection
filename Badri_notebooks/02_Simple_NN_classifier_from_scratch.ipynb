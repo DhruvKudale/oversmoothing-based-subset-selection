{
 "cells": [
  {
   "cell_type": "markdown",
   "id": "a38555a6-cac7-4eff-a733-a00257c63946",
   "metadata": {},
   "source": [
    "# Imports"
   ]
  },
  {
   "cell_type": "code",
   "execution_count": null,
   "id": "8bef8931-044c-4002-8647-ccc8172db98c",
   "metadata": {},
   "outputs": [],
   "source": [
    "import numpy as np"
   ]
  },
  {
   "cell_type": "markdown",
   "id": "bc9a637e-3ac1-446b-9f04-54aa1c69d855",
   "metadata": {},
   "source": [
    "# Neural Network Model"
   ]
  },
  {
   "cell_type": "code",
   "execution_count": null,
   "id": "8e76b5e8-477e-4d9c-91c0-d8d3a6a32a19",
   "metadata": {},
   "outputs": [],
   "source": [
    "class NeuralNetwork:\n",
    "    def __init__(self, input_size, hidden_size, output_size):\n",
    "        self.input_size = input_size\n",
    "        self.hidden_size = hidden_size\n",
    "        self.output_size = output_size\n",
    "        \n",
    "        # Initialize weights and biases\n",
    "        self.W1 = np.random.randn(self.input_size, self.hidden_size)\n",
    "        self.b1 = np.zeros((1, self.hidden_size))\n",
    "        self.W2 = np.random.randn(self.hidden_size, self.output_size)\n",
    "        self.b2 = np.zeros((1, self.output_size))\n",
    "    \n",
    "    def sigmoid(self, x):\n",
    "        return 1 / (1 + np.exp(-x))\n",
    "    \n",
    "    def sigmoid_derivative(self, x):\n",
    "        return x * (1 - x)\n",
    "    \n",
    "    def forward(self, X):\n",
    "        # Forward propagation\n",
    "        self.z1 = np.dot(X, self.W1) + self.b1\n",
    "        self.a1 = self.sigmoid(self.z1)\n",
    "        self.z2 = np.dot(self.a1, self.W2) + self.b2\n",
    "        self.a2 = self.sigmoid(self.z2)\n",
    "        return self.a2\n",
    "    \n",
    "    def backward(self, X, y, output):\n",
    "        # Backward propagation\n",
    "        self.output_error = y - output\n",
    "        self.output_delta = self.output_error * self.sigmoid_derivative(output)\n",
    "        \n",
    "        self.hidden_error = self.output_delta.dot(self.W2.T)\n",
    "        self.hidden_delta = self.hidden_error * self.sigmoid_derivative(self.a1)\n",
    "        \n",
    "        # Update weights and biases\n",
    "        self.W1 += X.T.dot(self.hidden_delta)\n",
    "        self.b1 += np.sum(self.hidden_delta, axis=0, keepdims=True)\n",
    "        self.W2 += self.a1.T.dot(self.output_delta)\n",
    "        self.b2 += np.sum(self.output_delta, axis=0, keepdims=True)\n",
    "    \n",
    "    def train(self, X, y, epochs):\n",
    "        for epoch in range(epochs):\n",
    "            # Forward propagation\n",
    "            output = self.forward(X)\n",
    "            \n",
    "            # Backward propagation and update\n",
    "            self.backward(X, y, output)\n",
    "            \n",
    "            # Print loss every 1000 epochs\n",
    "            if epoch % 1000 == 0:\n",
    "                loss = np.mean(np.square(y - output))\n",
    "                print(f'Epoch {epoch}: Loss {loss}')\n",
    "    \n",
    "    def predict(self, X):\n",
    "        # Predict the output label\n",
    "        return np.round(self.forward(X))"
   ]
  },
  {
   "cell_type": "code",
   "execution_count": null,
   "id": "bf8cc807-388c-4e71-a045-329de9c190cf",
   "metadata": {},
   "outputs": [],
   "source": [
    "# Example usage:\n",
    "# Assuming you have your data X (features) and y (labels) ready\n",
    "\n",
    "# Random data generation for demonstration\n",
    "np.random.seed(0)\n",
    "X = np.random.rand(100, 5)  # 100 samples with 5 features each\n",
    "y = np.random.randint(2, size=(100, 1))  # Binary labels\n",
    "\n",
    "input_size = X.shape[1]\n",
    "hidden_size = 4  # You can change this value\n",
    "output_size = 1\n",
    "\n",
    "# Create and train the neural network\n",
    "nn = NeuralNetwork(input_size, hidden_size, output_size)\n",
    "nn.train(X, y, epochs=10000)\n",
    "\n",
    "# Predict on new data\n",
    "new_data = np.random.rand(10, 5)  # New 10 samples\n",
    "predictions = nn.predict(new_data)\n",
    "print(\"Predictions:\", predictions.flatten())"
   ]
  }
 ],
 "metadata": {
  "kernelspec": {
   "display_name": "Python 3 (ipykernel)",
   "language": "python",
   "name": "python3"
  },
  "language_info": {
   "codemirror_mode": {
    "name": "ipython",
    "version": 3
   },
   "file_extension": ".py",
   "mimetype": "text/x-python",
   "name": "python",
   "nbconvert_exporter": "python",
   "pygments_lexer": "ipython3",
   "version": "3.10.12"
  }
 },
 "nbformat": 4,
 "nbformat_minor": 5
}
