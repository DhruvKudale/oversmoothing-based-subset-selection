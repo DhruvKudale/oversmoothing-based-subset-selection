{
 "cells": [
  {
   "cell_type": "markdown",
   "id": "29358e0d-9a27-4c3d-a2b9-39308c479ef6",
   "metadata": {},
   "source": [
    "# Imports"
   ]
  },
  {
   "cell_type": "code",
   "execution_count": 19,
   "id": "eaee808c-f175-4086-ae6e-ac5337efe814",
   "metadata": {},
   "outputs": [],
   "source": [
    "import torch\n",
    "import torch.nn as nn\n",
    "import torch.optim as optim\n",
    "\n",
    "import pickle\n",
    "import random\n",
    "from datasets import load_dataset\n",
    "from torch.utils.data import SubsetRandomSampler"
   ]
  },
  {
   "cell_type": "markdown",
   "id": "b9be4a12-e6b3-452d-bacd-b86240735ba9",
   "metadata": {},
   "source": [
    "# NeuralNetwork"
   ]
  },
  {
   "cell_type": "code",
   "execution_count": 20,
   "id": "e2ab4c76-334f-4081-8887-5604127f4d44",
   "metadata": {},
   "outputs": [],
   "source": [
    "class SimpleNN(nn.Module):\n",
    "    def __init__(self, input_size, hidden_size, output_size):\n",
    "        super(SimpleNN, self).__init__()\n",
    "        self.fc1 = nn.Linear(input_size, hidden_size)\n",
    "        self.fc2 = nn.Linear(hidden_size, output_size)\n",
    "        self.sigmoid = nn.Sigmoid()\n",
    "\n",
    "    def forward(self, x):\n",
    "        x = self.sigmoid(self.fc1(x))\n",
    "        x = self.sigmoid(self.fc2(x))\n",
    "        return x\n",
    "\n",
    "\n",
    "def convert_to_ground_truth(predictions, threshold=0.5):\n",
    "    return (predictions > threshold).float()"
   ]
  },
  {
   "cell_type": "markdown",
   "id": "8a6ddf0e-b96b-4a99-a897-81a1878637a6",
   "metadata": {},
   "source": [
    "# Load dataset and embeddings"
   ]
  },
  {
   "cell_type": "markdown",
   "id": "a6439eed-292e-4ebd-9d18-4410bdc9b1ce",
   "metadata": {},
   "source": [
    "### IMDB"
   ]
  },
  {
   "cell_type": "code",
   "execution_count": 21,
   "id": "b474f61c-e0e4-4e97-bb87-ce7a28910bd1",
   "metadata": {},
   "outputs": [],
   "source": [
    "with open('./../data/embeddings/imdb-test-768.pkl', 'rb') as file:\n",
    "    test_x = pickle.load(file)\n",
    "\n",
    "with open('./../data/embeddings/imdb-train-768.pkl', 'rb') as file:\n",
    "    train_x = pickle.load(file)\n",
    "\n",
    "dataset_name = \"stanfordnlp/imdb\"\n",
    "dataset = load_dataset(dataset_name)\n",
    "\n",
    "train_dataset = dataset[\"train\"]\n",
    "test_dataset = dataset[\"test\"]"
   ]
  },
  {
   "cell_type": "markdown",
   "id": "1c6ac697-9a88-4a60-814b-0ab285d2e08b",
   "metadata": {},
   "source": [
    "### GLUE COLA"
   ]
  },
  {
   "cell_type": "code",
   "execution_count": null,
   "id": "704e50e1-7537-4cb2-a6f6-fd7701f86ed1",
   "metadata": {},
   "outputs": [],
   "source": [
    "with open('./../data/embeddings/cola-test-768.pkl', 'rb') as file:\n",
    "    test_x = pickle.load(file)\n",
    "\n",
    "with open('./../data/embeddings/cola-val-768.pkl', 'rb') as file:\n",
    "    val_x = pickle.load(file)\n",
    "\n",
    "with open('./../data/embeddings/cola-train-768.pkl', 'rb') as file:\n",
    "    train_x = pickle.load(file)\n",
    "\n",
    "dataset = load_dataset(\"glue\", \"cola\")\n",
    "\n",
    "train_dataset = dataset[\"train\"]\n",
    "val_dataset = dataset[\"validation\"]\n",
    "test_dataset = dataset[\"test\"]"
   ]
  },
  {
   "cell_type": "markdown",
   "id": "f9ec9fb5-eb0d-4653-bd25-c2d931b9bc00",
   "metadata": {},
   "source": [
    "### Entire Data"
   ]
  },
  {
   "cell_type": "code",
   "execution_count": 22,
   "id": "4a809dd2-e398-4faf-999b-ec138e7d6e13",
   "metadata": {},
   "outputs": [],
   "source": [
    "torch.manual_seed(0)\n",
    "test_x = torch.squeeze(torch.stack([torch.tensor(arr) for arr in test_x]))\n",
    "train_x = torch.squeeze(torch.stack([torch.tensor(arr) for arr in train_x]))\n",
    "train_y = torch.squeeze(torch.tensor(train_dataset['label'], dtype=torch.float32))\n",
    "test_y = torch.squeeze(torch.tensor(test_dataset['label'], dtype=torch.float32))"
   ]
  },
  {
   "cell_type": "markdown",
   "id": "12250ddf-ca88-4236-a203-f40bde56584a",
   "metadata": {},
   "source": [
    "### Get Percentage of Data"
   ]
  },
  {
   "cell_type": "code",
   "execution_count": 23,
   "id": "62593592-e362-48a2-ba06-158fba06c012",
   "metadata": {},
   "outputs": [],
   "source": [
    "percentage = 0.05  # 10% of the dataset\n",
    "\n",
    "\n",
    "# Generate indices for splitting the dataset\n",
    "dataset_size = len(train_x)\n",
    "indices = list(range(dataset_size))\n",
    "split = int(percentage * dataset_size)\n",
    "random.shuffle(indices)\n",
    "\n",
    "# Split the indices into train and test indices\n",
    "train_indices, _ = indices[split:], indices[:split]\n",
    "\n",
    "# Create SubsetRandomSampler for train set\n",
    "train_sampler = SubsetRandomSampler(train_indices)\n",
    "\n",
    "# Create DataLoader for train set\n",
    "train_loader = torch.utils.data.DataLoader(dataset, sampler=train_sampler)\n",
    "\n",
    "\n",
    "# Choose random % of dataset\n",
    "subset_size = int(len(train_x) * percentage)\n",
    "chosen_indices = torch.randperm(len(train_x))[:subset_size]\n",
    "\n",
    "# Select subset of data\n",
    "subset_train_x = train_x[chosen_indices]\n",
    "subset_train_y = train_y[chosen_indices]"
   ]
  },
  {
   "cell_type": "code",
   "execution_count": 24,
   "id": "75bea51f-1fa8-483f-a218-4555ed649425",
   "metadata": {},
   "outputs": [
    {
     "data": {
      "text/plain": [
       "torch.Size([1250, 768])"
      ]
     },
     "execution_count": 24,
     "metadata": {},
     "output_type": "execute_result"
    }
   ],
   "source": [
    "subset_train_x.shape"
   ]
  },
  {
   "cell_type": "markdown",
   "id": "adfeed11-ae02-4847-83ce-3bfba74d49da",
   "metadata": {},
   "source": [
    "### Hyperparameters"
   ]
  },
  {
   "cell_type": "code",
   "execution_count": 25,
   "id": "c5adaa99-174d-4ce1-a9c5-d2ee014be301",
   "metadata": {},
   "outputs": [],
   "source": [
    "hidden_size = 4 \n",
    "output_size = 1"
   ]
  },
  {
   "cell_type": "markdown",
   "id": "9c86c921-447f-42ee-808a-3d84ac3ed77b",
   "metadata": {},
   "source": [
    "### Train Code"
   ]
  },
  {
   "cell_type": "code",
   "execution_count": 26,
   "id": "58a2de35-5b87-4d64-afff-aa4537b1896a",
   "metadata": {},
   "outputs": [
    {
     "name": "stdout",
     "output_type": "stream",
     "text": [
      "Epoch 0: Loss 0.7260202169418335\n",
      "Epoch 1000: Loss 0.6848580837249756\n",
      "Epoch 2000: Loss 0.6094982028007507\n",
      "Epoch 3000: Loss 0.42271894216537476\n",
      "Epoch 4000: Loss 0.32491835951805115\n",
      "Epoch 5000: Loss 0.2789395749568939\n",
      "Epoch 6000: Loss 0.2503441274166107\n",
      "Epoch 7000: Loss 0.22949931025505066\n",
      "Epoch 8000: Loss 0.2131308764219284\n",
      "Epoch 9000: Loss 0.19974397122859955\n"
     ]
    }
   ],
   "source": [
    "input_size = subset_train_x.shape[1]\n",
    "model = SimpleNN(input_size, hidden_size, output_size)\n",
    "\n",
    "# Define loss function and optimizer\n",
    "criterion = nn.BCELoss()\n",
    "optimizer = optim.SGD(model.parameters(), lr=0.1)\n",
    "\n",
    "# Training loop\n",
    "epochs = 10000\n",
    "for epoch in range(epochs):\n",
    "    # Forward pass\n",
    "    outputs = torch.squeeze(model(subset_train_x))\n",
    "    loss = criterion(outputs, subset_train_y)\n",
    "\n",
    "    # Backward pass and optimization\n",
    "    optimizer.zero_grad()\n",
    "    loss.backward()\n",
    "    optimizer.step()\n",
    "\n",
    "    # Print loss every 1000 epochs\n",
    "    if epoch % 1000 == 0:\n",
    "        print(f'Epoch {epoch}: Loss {loss.item()}')"
   ]
  },
  {
   "cell_type": "code",
   "execution_count": 9,
   "id": "a910aa1e-09bf-4b85-9426-8aede0ea38a7",
   "metadata": {},
   "outputs": [],
   "source": [
    "predictions = convert_to_ground_truth(model(test_x))"
   ]
  },
  {
   "cell_type": "code",
   "execution_count": 10,
   "id": "4bff19b6-8480-4030-b82b-1d7e100e07f0",
   "metadata": {},
   "outputs": [
    {
     "name": "stdout",
     "output_type": "stream",
     "text": [
      "Classification Report:\n",
      "              precision    recall  f1-score   support\n",
      "\n",
      "         0.0       0.89      0.88      0.88     12500\n",
      "         1.0       0.88      0.89      0.88     12500\n",
      "\n",
      "    accuracy                           0.88     25000\n",
      "   macro avg       0.88      0.88      0.88     25000\n",
      "weighted avg       0.88      0.88      0.88     25000\n",
      "\n"
     ]
    }
   ],
   "source": [
    "from sklearn.metrics import classification_report\n",
    "\n",
    "# Generate classification report\n",
    "\n",
    "report = classification_report(test_y.detach().numpy(), predictions.detach().numpy())\n",
    "\n",
    "print(\"Classification Report:\")\n",
    "print(report)"
   ]
  },
  {
   "cell_type": "code",
   "execution_count": null,
   "id": "bf3a2389-bbc4-42cd-a5c4-28dadb7b493f",
   "metadata": {},
   "outputs": [],
   "source": []
  }
 ],
 "metadata": {
  "kernelspec": {
   "display_name": "Python 3 (ipykernel)",
   "language": "python",
   "name": "python3"
  },
  "language_info": {
   "codemirror_mode": {
    "name": "ipython",
    "version": 3
   },
   "file_extension": ".py",
   "mimetype": "text/x-python",
   "name": "python",
   "nbconvert_exporter": "python",
   "pygments_lexer": "ipython3",
   "version": "3.10.12"
  }
 },
 "nbformat": 4,
 "nbformat_minor": 5
}
