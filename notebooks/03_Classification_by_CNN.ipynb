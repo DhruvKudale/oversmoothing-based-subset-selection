{
 "cells": [
  {
   "cell_type": "code",
   "execution_count": 502,
   "metadata": {},
   "outputs": [],
   "source": [
    "import pickle\n",
    "import numpy as np\n",
    "from datasets import load_dataset\n",
    "import tqdm\n",
    "import math\n",
    "import sys"
   ]
  },
  {
   "cell_type": "code",
   "execution_count": 503,
   "metadata": {},
   "outputs": [],
   "source": [
    "# # GLUE\n",
    "# dataset = load_dataset(\"glue\", \"sst2\")\n",
    "# val_dataset = dataset[\"validation\"]\n",
    "\n",
    "dataset = load_dataset(\"rotten_tomatoes\")\n",
    "train_dataset = dataset[\"train\"]\n",
    "test_dataset = dataset[\"test\"]"
   ]
  },
  {
   "cell_type": "markdown",
   "metadata": {},
   "source": [
    "### CNN Based Classifier"
   ]
  },
  {
   "cell_type": "code",
   "execution_count": 602,
   "metadata": {},
   "outputs": [],
   "source": [
    "import torch\n",
    "import torch.nn as nn\n",
    "import torch.optim as optim\n",
    "import torchvision\n",
    "import torchvision.transforms as transforms"
   ]
  },
  {
   "cell_type": "code",
   "execution_count": 603,
   "metadata": {},
   "outputs": [],
   "source": [
    "# Define the CNN architecture for 1D vectors\n",
    "class CNNClassifier(nn.Module):\n",
    "    def __init__(self):\n",
    "        super(CNNClassifier, self).__init__()\n",
    "#         self.conv1 = nn.Conv1d(in_channels = 1, out_channels = 32, kernel_size = 3)\n",
    "#         self.conv2 = nn.Conv1d(in_channels = 32, out_channels = 32, kernel_size = 3)\n",
    "#         self.conv3 = nn.Conv1d(in_channels = 32, out_channels = 16, kernel_size = 3)\n",
    "#         self.pool = nn.MaxPool1d(kernel_size = 2)\n",
    "        self.fc1 = nn.Linear(768, 4)  # Adjust input size according to your data\n",
    "        self.fc2 = nn.Linear(4, 1)      # Output layer with 1 neuron for binary classification\n",
    "\n",
    "    def forward(self, x):\n",
    "#         x = self.pool(nn.functional.relu(self.conv1(x)))\n",
    "#         x = self.pool(nn.functional.relu(self.conv2(x)))\n",
    "#         x = self.pool(nn.functional.relu(self.conv3(x)))\n",
    "#         x = x.view(-1, 16 * 94)  # Adjust the size according to the output size of the last convolutional layer\n",
    "        x = nn.functional.relu(self.fc1(x))\n",
    "        x = torch.sigmoid(self.fc2(x))  # Sigmoid activation for binary classification\n",
    "        return x"
   ]
  },
  {
   "cell_type": "code",
   "execution_count": 604,
   "metadata": {},
   "outputs": [],
   "source": [
    "# Sample data loader for demonstration\n",
    "class SampleDataset(torch.utils.data.Dataset):\n",
    "    def __init__(self, data, labels):\n",
    "        self.data = data\n",
    "        self.labels = labels\n",
    "\n",
    "    def __len__(self):\n",
    "        return len(self.data)\n",
    "\n",
    "    def __getitem__(self, idx):\n",
    "        return self.data[idx], self.labels[idx]"
   ]
  },
  {
   "cell_type": "code",
   "execution_count": 605,
   "metadata": {},
   "outputs": [],
   "source": [
    "# Get Training Data\n",
    "\n",
    "# Read pkl file \n",
    "with open('embeddings/rotten-MPNET/rotten-train-768.pkl', 'rb') as f:\n",
    "    vectors = pickle.load(f)\n",
    "    \n",
    "X = np.array(vectors)\n",
    "\n",
    "labels = []\n",
    "for item in train_dataset:\n",
    "    labels.append(item['label'])\n",
    "    \n",
    "Y = np.array(labels)"
   ]
  },
  {
   "cell_type": "markdown",
   "metadata": {},
   "source": [
    "### Determining which Subset "
   ]
  },
  {
   "cell_type": "code",
   "execution_count": 667,
   "metadata": {},
   "outputs": [],
   "source": [
    "# Read Instance Scores\n",
    "with open('scores/rotten-MPNET/instance-scores-rotten-L16-30-40-30.pkl', 'rb') as f:\n",
    "    instance_scores = pickle.load(f)\n",
    "    \n",
    "# Sort indices based on the score in descending order\n",
    "def sort_indices_by_values(values):\n",
    "    return sorted(range(len(values)), key=lambda i: np.abs(values[i]), reverse = True)\n",
    "\n",
    "# Example usage:\n",
    "values = [3, 1, 4, 1, 5, 9, 2, 6, 5, 3]\n",
    "sorted_indices = sort_indices_by_values(instance_scores)"
   ]
  },
  {
   "cell_type": "code",
   "execution_count": 761,
   "metadata": {},
   "outputs": [],
   "source": [
    "# Compute subset length\n",
    "\n",
    "percentage = 0.75\n",
    "name = 'models/rotten/model-L16-75.pth' \n",
    "\n",
    "subset_len = int(percentage * len(X))\n",
    "sorted_subset_indices = sorted_indices[:subset_len]"
   ]
  },
  {
   "cell_type": "code",
   "execution_count": 762,
   "metadata": {},
   "outputs": [],
   "source": [
    "X_eff = []\n",
    "Y_eff = []\n",
    "\n",
    "for i in sorted_subset_indices:\n",
    "    X_eff.append(X[i])\n",
    "    Y_eff.append(Y[i])"
   ]
  },
  {
   "cell_type": "code",
   "execution_count": 763,
   "metadata": {},
   "outputs": [
    {
     "name": "stdout",
     "output_type": "stream",
     "text": [
      "6397 samples selected\n"
     ]
    }
   ],
   "source": [
    "N = len(X_eff)\n",
    "X_train = torch.from_numpy(np.array(X_eff).reshape(N, 1, 768))\n",
    "Y_train = torch.from_numpy(np.array(Y_eff).reshape(N, 1, 1)).float()\n",
    "print(str(N) + ' samples selected')"
   ]
  },
  {
   "cell_type": "code",
   "execution_count": 764,
   "metadata": {},
   "outputs": [
    {
     "name": "stdout",
     "output_type": "stream",
     "text": [
      "Class 0: 3190\n",
      "Class 1: 3207\n"
     ]
    }
   ],
   "source": [
    "c0 = 0\n",
    "c1 = 0\n",
    "for i in Y_eff:\n",
    "    if i == 0:\n",
    "        c0 += 1\n",
    "    else:\n",
    "        c1 += 1\n",
    "        \n",
    "print('Class 0: ' + str(c0))\n",
    "print('Class 1: ' + str(c1))"
   ]
  },
  {
   "cell_type": "markdown",
   "metadata": {},
   "source": [
    "### Start Training"
   ]
  },
  {
   "cell_type": "code",
   "execution_count": 771,
   "metadata": {},
   "outputs": [
    {
     "name": "stderr",
     "output_type": "stream",
     "text": [
      "  2%|▏         | 2/100 [00:00<00:07, 12.31it/s]"
     ]
    },
    {
     "name": "stdout",
     "output_type": "stream",
     "text": [
      "[1,    10] loss: 0.0694\n",
      "[1,   110] loss: 0.7000\n",
      "[2,    10] loss: 0.0688\n",
      "[2,   110] loss: 0.6945\n",
      "[3,    10] loss: 0.0682\n",
      "[3,   110] loss: 0.6792\n",
      "[4,    10] loss: 0.0679\n",
      "[4,   110] loss: 0.6705\n"
     ]
    },
    {
     "name": "stderr",
     "output_type": "stream",
     "text": [
      "  5%|▌         | 5/100 [00:00<00:13,  7.25it/s]"
     ]
    },
    {
     "name": "stdout",
     "output_type": "stream",
     "text": [
      "[5,    10] loss: 0.0665\n",
      "[5,   110] loss: 0.6569\n",
      "[6,    10] loss: 0.0654\n"
     ]
    },
    {
     "name": "stderr",
     "output_type": "stream",
     "text": [
      "\r",
      "  6%|▌         | 6/100 [00:00<00:13,  7.02it/s]"
     ]
    },
    {
     "name": "stdout",
     "output_type": "stream",
     "text": [
      "[6,   110] loss: 0.6446\n",
      "[7,    10] loss: 0.0638\n",
      "[7,   110] loss: 0.6343\n",
      "[8,    10] loss: 0.0623\n",
      "[8,   110] loss: 0.6217\n"
     ]
    },
    {
     "name": "stderr",
     "output_type": "stream",
     "text": [
      "  9%|▉         | 9/100 [00:01<00:10,  8.74it/s]"
     ]
    },
    {
     "name": "stdout",
     "output_type": "stream",
     "text": [
      "[9,    10] loss: 0.0612\n",
      "[9,   110] loss: 0.6081\n",
      "[10,    10] loss: 0.0604\n",
      "[10,   110] loss: 0.5939\n",
      "[11,    10] loss: 0.0580\n"
     ]
    },
    {
     "name": "stderr",
     "output_type": "stream",
     "text": [
      " 12%|█▏        | 12/100 [00:01<00:09,  9.47it/s]"
     ]
    },
    {
     "name": "stdout",
     "output_type": "stream",
     "text": [
      "[11,   110] loss: 0.5828\n",
      "[12,    10] loss: 0.0576\n",
      "[12,   110] loss: 0.5696\n",
      "[13,    10] loss: 0.0559\n"
     ]
    },
    {
     "name": "stderr",
     "output_type": "stream",
     "text": [
      "\r",
      " 13%|█▎        | 13/100 [00:01<00:09,  9.41it/s]"
     ]
    },
    {
     "name": "stdout",
     "output_type": "stream",
     "text": [
      "[13,   110] loss: 0.5577\n",
      "[14,    10] loss: 0.0545\n",
      "[14,   110] loss: 0.5457\n",
      "[15,    10] loss: 0.0544\n",
      "[15,   110] loss: 0.5342\n"
     ]
    },
    {
     "name": "stderr",
     "output_type": "stream",
     "text": [
      " 16%|█▌        | 16/100 [00:01<00:08,  9.76it/s]"
     ]
    },
    {
     "name": "stdout",
     "output_type": "stream",
     "text": [
      "[16,    10] loss: 0.0535\n",
      "[16,   110] loss: 0.5184\n",
      "[17,    10] loss: 0.0522\n",
      "[17,   110] loss: 0.5056\n",
      "[18,    10] loss: 0.0506\n"
     ]
    },
    {
     "name": "stderr",
     "output_type": "stream",
     "text": [
      " 19%|█▉        | 19/100 [00:02<00:08,  9.81it/s]"
     ]
    },
    {
     "name": "stdout",
     "output_type": "stream",
     "text": [
      "[18,   110] loss: 0.5015\n",
      "[19,    10] loss: 0.0493\n",
      "[19,   110] loss: 0.4862\n",
      "[20,    10] loss: 0.0467\n"
     ]
    },
    {
     "name": "stderr",
     "output_type": "stream",
     "text": [
      "\r",
      " 20%|██        | 20/100 [00:02<00:08,  9.65it/s]"
     ]
    },
    {
     "name": "stdout",
     "output_type": "stream",
     "text": [
      "[20,   110] loss: 0.4779\n",
      "[21,    10] loss: 0.0488\n",
      "[21,   110] loss: 0.4697\n",
      "[22,    10] loss: 0.0468\n",
      "[22,   110] loss: 0.4539\n"
     ]
    },
    {
     "name": "stderr",
     "output_type": "stream",
     "text": [
      " 24%|██▍       | 24/100 [00:02<00:07, 10.21it/s]"
     ]
    },
    {
     "name": "stdout",
     "output_type": "stream",
     "text": [
      "[23,    10] loss: 0.0452\n",
      "[23,   110] loss: 0.4470\n",
      "[24,    10] loss: 0.0444\n",
      "[24,   110] loss: 0.4384\n",
      "[25,    10] loss: 0.0401\n"
     ]
    },
    {
     "name": "stderr",
     "output_type": "stream",
     "text": [
      "\r",
      " 26%|██▌       | 26/100 [00:02<00:07,  9.61it/s]"
     ]
    },
    {
     "name": "stdout",
     "output_type": "stream",
     "text": [
      "[25,   110] loss: 0.4319\n",
      "[26,    10] loss: 0.0428\n",
      "[26,   110] loss: 0.4224\n",
      "[27,    10] loss: 0.0415\n"
     ]
    },
    {
     "name": "stderr",
     "output_type": "stream",
     "text": [
      " 28%|██▊       | 28/100 [00:03<00:07,  9.38it/s]"
     ]
    },
    {
     "name": "stdout",
     "output_type": "stream",
     "text": [
      "[27,   110] loss: 0.4160\n",
      "[28,    10] loss: 0.0400\n",
      "[28,   110] loss: 0.4075\n",
      "[29,    10] loss: 0.0394\n"
     ]
    },
    {
     "name": "stderr",
     "output_type": "stream",
     "text": [
      " 30%|███       | 30/100 [00:03<00:07,  8.83it/s]"
     ]
    },
    {
     "name": "stdout",
     "output_type": "stream",
     "text": [
      "[29,   110] loss: 0.3989\n",
      "[30,    10] loss: 0.0358\n",
      "[30,   110] loss: 0.3967\n",
      "[31,    10] loss: 0.0387\n"
     ]
    },
    {
     "name": "stderr",
     "output_type": "stream",
     "text": [
      " 32%|███▏      | 32/100 [00:03<00:07,  8.53it/s]"
     ]
    },
    {
     "name": "stdout",
     "output_type": "stream",
     "text": [
      "[31,   110] loss: 0.3831\n",
      "[32,    10] loss: 0.0391\n",
      "[32,   110] loss: 0.3758\n",
      "[33,    10] loss: 0.0360\n"
     ]
    },
    {
     "name": "stderr",
     "output_type": "stream",
     "text": [
      " 34%|███▍      | 34/100 [00:03<00:07,  8.90it/s]"
     ]
    },
    {
     "name": "stdout",
     "output_type": "stream",
     "text": [
      "[33,   110] loss: 0.3735\n",
      "[34,    10] loss: 0.0365\n",
      "[34,   110] loss: 0.3687\n",
      "[35,    10] loss: 0.0365\n"
     ]
    },
    {
     "name": "stderr",
     "output_type": "stream",
     "text": [
      " 36%|███▌      | 36/100 [00:03<00:07,  8.73it/s]"
     ]
    },
    {
     "name": "stdout",
     "output_type": "stream",
     "text": [
      "[35,   110] loss: 0.3686\n",
      "[36,    10] loss: 0.0353\n",
      "[36,   110] loss: 0.3594\n",
      "[37,    10] loss: 0.0337\n"
     ]
    },
    {
     "name": "stderr",
     "output_type": "stream",
     "text": [
      " 38%|███▊      | 38/100 [00:04<00:07,  8.59it/s]"
     ]
    },
    {
     "name": "stdout",
     "output_type": "stream",
     "text": [
      "[37,   110] loss: 0.3690\n",
      "[38,    10] loss: 0.0353\n",
      "[38,   110] loss: 0.3490\n",
      "[39,    10] loss: 0.0336\n"
     ]
    },
    {
     "name": "stderr",
     "output_type": "stream",
     "text": [
      " 40%|████      | 40/100 [00:04<00:07,  8.43it/s]"
     ]
    },
    {
     "name": "stdout",
     "output_type": "stream",
     "text": [
      "[39,   110] loss: 0.3481\n",
      "[40,    10] loss: 0.0344\n",
      "[40,   110] loss: 0.3399\n",
      "[41,    10] loss: 0.0347\n"
     ]
    },
    {
     "name": "stderr",
     "output_type": "stream",
     "text": [
      " 42%|████▏     | 42/100 [00:04<00:06,  8.59it/s]"
     ]
    },
    {
     "name": "stdout",
     "output_type": "stream",
     "text": [
      "[41,   110] loss: 0.3346\n",
      "[42,    10] loss: 0.0377\n",
      "[42,   110] loss: 0.3325\n",
      "[43,    10] loss: 0.0322\n"
     ]
    },
    {
     "name": "stderr",
     "output_type": "stream",
     "text": [
      " 44%|████▍     | 44/100 [00:04<00:06,  8.26it/s]"
     ]
    },
    {
     "name": "stdout",
     "output_type": "stream",
     "text": [
      "[43,   110] loss: 0.3281\n",
      "[44,    10] loss: 0.0340\n",
      "[44,   110] loss: 0.3311\n",
      "[45,    10] loss: 0.0307\n"
     ]
    },
    {
     "name": "stderr",
     "output_type": "stream",
     "text": [
      " 46%|████▌     | 46/100 [00:05<00:06,  8.31it/s]"
     ]
    },
    {
     "name": "stdout",
     "output_type": "stream",
     "text": [
      "[45,   110] loss: 0.3265\n",
      "[46,    10] loss: 0.0327\n",
      "[46,   110] loss: 0.3246\n",
      "[47,    10] loss: 0.0331\n"
     ]
    },
    {
     "name": "stderr",
     "output_type": "stream",
     "text": [
      " 48%|████▊     | 48/100 [00:05<00:06,  8.55it/s]"
     ]
    },
    {
     "name": "stdout",
     "output_type": "stream",
     "text": [
      "[47,   110] loss: 0.3181\n",
      "[48,    10] loss: 0.0321\n",
      "[48,   110] loss: 0.3190\n",
      "[49,    10] loss: 0.0327\n"
     ]
    },
    {
     "name": "stderr",
     "output_type": "stream",
     "text": [
      "\r",
      " 49%|████▉     | 49/100 [00:05<00:05,  8.81it/s]"
     ]
    },
    {
     "name": "stdout",
     "output_type": "stream",
     "text": [
      "[49,   110] loss: 0.3127\n",
      "[50,    10] loss: 0.0318\n",
      "[50,   110] loss: 0.3221\n",
      "[51,    10] loss: 0.0267\n",
      "[51,   110] loss: 0.3138\n"
     ]
    },
    {
     "name": "stderr",
     "output_type": "stream",
     "text": [
      " 52%|█████▏    | 52/100 [00:05<00:05,  9.25it/s]"
     ]
    },
    {
     "name": "stdout",
     "output_type": "stream",
     "text": [
      "[52,    10] loss: 0.0327\n",
      "[52,   110] loss: 0.3175\n",
      "[53,    10] loss: 0.0343\n",
      "[53,   110] loss: 0.3137\n",
      "[54,    10] loss: 0.0330"
     ]
    },
    {
     "name": "stderr",
     "output_type": "stream",
     "text": [
      "\r",
      " 54%|█████▍    | 54/100 [00:05<00:04,  9.57it/s]"
     ]
    },
    {
     "name": "stdout",
     "output_type": "stream",
     "text": [
      "\n",
      "[54,   110] loss: 0.3087\n",
      "[55,    10] loss: 0.0280\n",
      "[55,   110] loss: 0.3051\n"
     ]
    },
    {
     "name": "stderr",
     "output_type": "stream",
     "text": [
      " 57%|█████▋    | 57/100 [00:06<00:04,  9.72it/s]"
     ]
    },
    {
     "name": "stdout",
     "output_type": "stream",
     "text": [
      "[56,    10] loss: 0.0277\n",
      "[56,   110] loss: 0.3044\n",
      "[57,    10] loss: 0.0291\n",
      "[57,   110] loss: 0.3138\n",
      "[58,    10] loss: 0.0299"
     ]
    },
    {
     "name": "stderr",
     "output_type": "stream",
     "text": [
      "\r",
      " 59%|█████▉    | 59/100 [00:06<00:04, 10.02it/s]"
     ]
    },
    {
     "name": "stdout",
     "output_type": "stream",
     "text": [
      "\n",
      "[58,   110] loss: 0.3117\n",
      "[59,    10] loss: 0.0328\n",
      "[59,   110] loss: 0.3039\n",
      "[60,    10] loss: 0.0277\n"
     ]
    },
    {
     "name": "stderr",
     "output_type": "stream",
     "text": [
      "\r",
      " 61%|██████    | 61/100 [00:06<00:03, 10.22it/s]"
     ]
    },
    {
     "name": "stdout",
     "output_type": "stream",
     "text": [
      "[60,   110] loss: 0.3058\n",
      "[61,    10] loss: 0.0283\n",
      "[61,   110] loss: 0.2890\n",
      "[62,    10] loss: 0.0302\n",
      "[62,   110] loss: 0.2927\n"
     ]
    },
    {
     "name": "stderr",
     "output_type": "stream",
     "text": [
      "\r",
      " 63%|██████▎   | 63/100 [00:06<00:03, 10.28it/s]"
     ]
    },
    {
     "name": "stdout",
     "output_type": "stream",
     "text": [
      "[63,    10] loss: 0.0354\n",
      "[63,   110] loss: 0.2981\n",
      "[64,    10] loss: 0.0315\n",
      "[64,   110] loss: 0.3009\n",
      "[65,    10] loss: 0.0284\n"
     ]
    },
    {
     "name": "stderr",
     "output_type": "stream",
     "text": [
      "\r",
      " 65%|██████▌   | 65/100 [00:07<00:03, 10.39it/s]"
     ]
    },
    {
     "name": "stdout",
     "output_type": "stream",
     "text": [
      "[65,   110] loss: 0.2940\n",
      "[66,    10] loss: 0.0300\n",
      "[66,   110] loss: 0.2947\n",
      "[67,    10] loss: 0.0270\n",
      "[67,   110] loss: 0.3139\n"
     ]
    },
    {
     "name": "stderr",
     "output_type": "stream",
     "text": [
      " 69%|██████▉   | 69/100 [00:07<00:03, 10.32it/s]"
     ]
    },
    {
     "name": "stdout",
     "output_type": "stream",
     "text": [
      "[68,    10] loss: 0.0291\n",
      "[68,   110] loss: 0.2850\n",
      "[69,    10] loss: 0.0327\n",
      "[69,   110] loss: 0.2878\n",
      "[70,    10] loss: 0.0329\n",
      "[70,   110] loss: 0.2937\n",
      "[71,    10] loss: 0.0266\n"
     ]
    },
    {
     "name": "stderr",
     "output_type": "stream",
     "text": [
      "\r",
      " 71%|███████   | 71/100 [00:07<00:03,  7.83it/s]"
     ]
    },
    {
     "name": "stdout",
     "output_type": "stream",
     "text": [
      "[71,   110] loss: 0.2907\n",
      "[72,    10] loss: 0.0268\n",
      "[72,   110] loss: 0.2793\n"
     ]
    },
    {
     "name": "stderr",
     "output_type": "stream",
     "text": [
      " 73%|███████▎  | 73/100 [00:08<00:04,  6.56it/s]"
     ]
    },
    {
     "name": "stdout",
     "output_type": "stream",
     "text": [
      "[73,    10] loss: 0.0332\n",
      "[73,   110] loss: 0.2870\n",
      "[74,    10] loss: 0.0283\n"
     ]
    },
    {
     "name": "stderr",
     "output_type": "stream",
     "text": [
      "\r",
      " 74%|███████▍  | 74/100 [00:08<00:04,  6.14it/s]"
     ]
    },
    {
     "name": "stdout",
     "output_type": "stream",
     "text": [
      "[74,   110] loss: 0.2741\n",
      "[75,    10] loss: 0.0315\n",
      "[75,   110] loss: 0.2856\n"
     ]
    },
    {
     "name": "stderr",
     "output_type": "stream",
     "text": [
      " 76%|███████▌  | 76/100 [00:08<00:04,  5.55it/s]"
     ]
    },
    {
     "name": "stdout",
     "output_type": "stream",
     "text": [
      "[76,    10] loss: 0.0290\n",
      "[76,   110] loss: 0.2804\n",
      "[77,    10] loss: 0.0304\n"
     ]
    },
    {
     "name": "stderr",
     "output_type": "stream",
     "text": [
      "\r",
      " 77%|███████▋  | 77/100 [00:09<00:04,  5.33it/s]"
     ]
    },
    {
     "name": "stdout",
     "output_type": "stream",
     "text": [
      "[77,   110] loss: 0.2891\n"
     ]
    },
    {
     "name": "stderr",
     "output_type": "stream",
     "text": [
      "\r",
      " 78%|███████▊  | 78/100 [00:09<00:04,  5.22it/s]"
     ]
    },
    {
     "name": "stdout",
     "output_type": "stream",
     "text": [
      "[78,    10] loss: 0.0292\n",
      "[78,   110] loss: 0.2885\n"
     ]
    },
    {
     "name": "stderr",
     "output_type": "stream",
     "text": [
      "\r",
      " 79%|███████▉  | 79/100 [00:09<00:04,  5.13it/s]"
     ]
    },
    {
     "name": "stdout",
     "output_type": "stream",
     "text": [
      "[79,    10] loss: 0.0277\n",
      "[79,   110] loss: 0.2831\n"
     ]
    },
    {
     "name": "stderr",
     "output_type": "stream",
     "text": [
      "\r",
      " 80%|████████  | 80/100 [00:09<00:03,  5.09it/s]"
     ]
    },
    {
     "name": "stdout",
     "output_type": "stream",
     "text": [
      "[80,    10] loss: 0.0280\n",
      "[80,   110] loss: 0.2940\n",
      "[81,    10] loss: 0.0317"
     ]
    },
    {
     "name": "stderr",
     "output_type": "stream",
     "text": [
      "\r",
      " 81%|████████  | 81/100 [00:09<00:03,  5.05it/s]"
     ]
    },
    {
     "name": "stdout",
     "output_type": "stream",
     "text": [
      "\n",
      "[81,   110] loss: 0.2911\n"
     ]
    },
    {
     "name": "stderr",
     "output_type": "stream",
     "text": [
      "\r",
      " 82%|████████▏ | 82/100 [00:10<00:03,  5.01it/s]"
     ]
    },
    {
     "name": "stdout",
     "output_type": "stream",
     "text": [
      "[82,    10] loss: 0.0297\n",
      "[82,   110] loss: 0.2910\n"
     ]
    },
    {
     "name": "stderr",
     "output_type": "stream",
     "text": [
      "\r",
      " 83%|████████▎ | 83/100 [00:10<00:03,  4.99it/s]"
     ]
    },
    {
     "name": "stdout",
     "output_type": "stream",
     "text": [
      "[83,    10] loss: 0.0280\n",
      "[83,   110] loss: 0.2850\n"
     ]
    },
    {
     "name": "stderr",
     "output_type": "stream",
     "text": [
      "\r",
      " 84%|████████▍ | 84/100 [00:10<00:03,  4.98it/s]"
     ]
    },
    {
     "name": "stdout",
     "output_type": "stream",
     "text": [
      "[84,    10] loss: 0.0266\n",
      "[84,   110] loss: 0.2906\n"
     ]
    },
    {
     "name": "stderr",
     "output_type": "stream",
     "text": [
      "\r",
      " 85%|████████▌ | 85/100 [00:10<00:03,  4.97it/s]"
     ]
    },
    {
     "name": "stdout",
     "output_type": "stream",
     "text": [
      "[85,    10] loss: 0.0285\n",
      "[85,   110] loss: 0.2916\n"
     ]
    },
    {
     "name": "stderr",
     "output_type": "stream",
     "text": [
      "\r",
      " 86%|████████▌ | 86/100 [00:10<00:02,  4.95it/s]"
     ]
    },
    {
     "name": "stdout",
     "output_type": "stream",
     "text": [
      "[86,    10] loss: 0.0259\n",
      "[86,   110] loss: 0.2932\n"
     ]
    },
    {
     "name": "stderr",
     "output_type": "stream",
     "text": [
      "\r",
      " 87%|████████▋ | 87/100 [00:11<00:02,  4.94it/s]"
     ]
    },
    {
     "name": "stdout",
     "output_type": "stream",
     "text": [
      "[87,    10] loss: 0.0303\n",
      "[87,   110] loss: 0.2778\n"
     ]
    },
    {
     "name": "stderr",
     "output_type": "stream",
     "text": [
      "\r",
      " 88%|████████▊ | 88/100 [00:11<00:02,  4.94it/s]"
     ]
    },
    {
     "name": "stdout",
     "output_type": "stream",
     "text": [
      "[88,    10] loss: 0.0375\n",
      "[88,   110] loss: 0.2766\n"
     ]
    },
    {
     "name": "stderr",
     "output_type": "stream",
     "text": [
      "\r",
      " 89%|████████▉ | 89/100 [00:11<00:02,  4.94it/s]"
     ]
    },
    {
     "name": "stdout",
     "output_type": "stream",
     "text": [
      "[89,    10] loss: 0.0277\n",
      "[89,   110] loss: 0.2907\n"
     ]
    },
    {
     "name": "stderr",
     "output_type": "stream",
     "text": [
      "\r",
      " 90%|█████████ | 90/100 [00:11<00:02,  4.92it/s]"
     ]
    },
    {
     "name": "stdout",
     "output_type": "stream",
     "text": [
      "[90,    10] loss: 0.0268\n",
      "[90,   110] loss: 0.2868\n"
     ]
    },
    {
     "name": "stderr",
     "output_type": "stream",
     "text": [
      "\r",
      " 91%|█████████ | 91/100 [00:11<00:01,  4.88it/s]"
     ]
    },
    {
     "name": "stdout",
     "output_type": "stream",
     "text": [
      "[91,    10] loss: 0.0282\n",
      "[91,   110] loss: 0.2800\n"
     ]
    },
    {
     "name": "stderr",
     "output_type": "stream",
     "text": [
      "\r",
      " 92%|█████████▏| 92/100 [00:12<00:01,  4.87it/s]"
     ]
    },
    {
     "name": "stdout",
     "output_type": "stream",
     "text": [
      "[92,    10] loss: 0.0258\n",
      "[92,   110] loss: 0.2885\n"
     ]
    },
    {
     "name": "stderr",
     "output_type": "stream",
     "text": [
      "\r",
      " 93%|█████████▎| 93/100 [00:12<00:01,  4.87it/s]"
     ]
    },
    {
     "name": "stdout",
     "output_type": "stream",
     "text": [
      "[93,    10] loss: 0.0281\n",
      "[93,   110] loss: 0.2857\n"
     ]
    },
    {
     "name": "stderr",
     "output_type": "stream",
     "text": [
      "\r",
      " 94%|█████████▍| 94/100 [00:12<00:01,  4.87it/s]"
     ]
    },
    {
     "name": "stdout",
     "output_type": "stream",
     "text": [
      "[94,    10] loss: 0.0285\n",
      "[94,   110] loss: 0.2874\n"
     ]
    },
    {
     "name": "stderr",
     "output_type": "stream",
     "text": [
      "\r",
      " 95%|█████████▌| 95/100 [00:12<00:01,  4.87it/s]"
     ]
    },
    {
     "name": "stdout",
     "output_type": "stream",
     "text": [
      "[95,    10] loss: 0.0265\n",
      "[95,   110] loss: 0.2838\n"
     ]
    },
    {
     "name": "stderr",
     "output_type": "stream",
     "text": [
      "\r",
      " 96%|█████████▌| 96/100 [00:12<00:00,  4.86it/s]"
     ]
    },
    {
     "name": "stdout",
     "output_type": "stream",
     "text": [
      "[96,    10] loss: 0.0279\n",
      "[96,   110] loss: 0.2763\n"
     ]
    },
    {
     "name": "stderr",
     "output_type": "stream",
     "text": [
      "\r",
      " 97%|█████████▋| 97/100 [00:13<00:00,  4.87it/s]"
     ]
    },
    {
     "name": "stdout",
     "output_type": "stream",
     "text": [
      "[97,    10] loss: 0.0320\n",
      "[97,   110] loss: 0.2711\n"
     ]
    },
    {
     "name": "stderr",
     "output_type": "stream",
     "text": [
      "\r",
      " 98%|█████████▊| 98/100 [00:13<00:00,  4.86it/s]"
     ]
    },
    {
     "name": "stdout",
     "output_type": "stream",
     "text": [
      "[98,    10] loss: 0.0246\n",
      "[98,   110] loss: 0.2776\n"
     ]
    },
    {
     "name": "stderr",
     "output_type": "stream",
     "text": [
      "\r",
      " 99%|█████████▉| 99/100 [00:13<00:00,  4.85it/s]"
     ]
    },
    {
     "name": "stdout",
     "output_type": "stream",
     "text": [
      "[99,    10] loss: 0.0348\n",
      "[99,   110] loss: 0.2732\n"
     ]
    },
    {
     "name": "stderr",
     "output_type": "stream",
     "text": [
      "100%|██████████| 100/100 [00:13<00:00,  7.27it/s]"
     ]
    },
    {
     "name": "stdout",
     "output_type": "stream",
     "text": [
      "[100,    10] loss: 0.0246\n",
      "[100,   110] loss: 0.2898\n",
      "Finished Training\n"
     ]
    },
    {
     "name": "stderr",
     "output_type": "stream",
     "text": [
      "\n"
     ]
    }
   ],
   "source": [
    "# Initialize the model, loss function, and optimizer\n",
    "model = CNNClassifier()\n",
    "criterion = nn.BCELoss()\n",
    "optimizer = optim.Adam(model.parameters(), lr = 0.00005)\n",
    "\n",
    "# Create data loader\n",
    "trainset = SampleDataset(X_train, Y_train)\n",
    "trainloader = torch.utils.data.DataLoader(trainset, batch_size = 32, shuffle=True)\n",
    "\n",
    "# Train the model\n",
    "for epoch in tqdm.tqdm(range(100)):  # Adjust number of epochs as needed\n",
    "    running_loss = 0.0\n",
    "    for i, data in enumerate(trainloader, 0):\n",
    "        inputs, labels = data\n",
    "        optimizer.zero_grad()\n",
    "        outputs = model(inputs)\n",
    "        loss = criterion(outputs, labels)\n",
    "        loss.backward()\n",
    "        optimizer.step()\n",
    "        running_loss += loss.item()\n",
    "        if i % 100 == 9:  # Print every 10 mini-batches\n",
    "            print('[%d, %5d] loss: %.4f' %\n",
    "                  (epoch + 1, i + 1, running_loss / 100))\n",
    "            running_loss = 0.0\n",
    "\n",
    "print('Finished Training')"
   ]
  },
  {
   "cell_type": "code",
   "execution_count": 772,
   "metadata": {},
   "outputs": [
    {
     "data": {
      "text/plain": [
       "CNNClassifier(\n",
       "  (fc1): Linear(in_features=768, out_features=4, bias=True)\n",
       "  (fc2): Linear(in_features=4, out_features=1, bias=True)\n",
       ")"
      ]
     },
     "execution_count": 772,
     "metadata": {},
     "output_type": "execute_result"
    }
   ],
   "source": [
    "# Save the trained model\n",
    "torch.save(model.state_dict(), name)\n",
    "\n",
    "# Perform inference with the saved model\n",
    "loaded_model = CNNClassifier()\n",
    "loaded_model.load_state_dict(torch.load(name))\n",
    "loaded_model.eval()"
   ]
  },
  {
   "cell_type": "code",
   "execution_count": 773,
   "metadata": {},
   "outputs": [],
   "source": [
    "# Lets do testing\n",
    "\n",
    "# Example inference\n",
    "# sample_input = torch.randn(1, 1, 768)  # Example input\n",
    "# output = loaded_model(sample_input)\n",
    "# print(\"Model output:\", output.item())\n",
    "\n",
    "# Read pkl file \n",
    "with open('embeddings/rotten-MPNET/rotten-test-768.pkl', 'rb') as f:\n",
    "    test_vectors = pickle.load(f)"
   ]
  },
  {
   "cell_type": "code",
   "execution_count": 774,
   "metadata": {},
   "outputs": [
    {
     "name": "stderr",
     "output_type": "stream",
     "text": [
      "100%|██████████| 1066/1066 [00:00<00:00, 13721.51it/s]\n"
     ]
    }
   ],
   "source": [
    "gt = []\n",
    "preds = []\n",
    "\n",
    "for i in tqdm.tqdm(range(len(test_vectors))):\n",
    "    input_vector = torch.tensor(test_vectors[i].reshape(1, 1, 768))\n",
    "    actual = test_dataset[i]['label']\n",
    "    output = loaded_model(input_vector) \n",
    "    if output < 0.5:\n",
    "        pred = 0\n",
    "    else:\n",
    "        pred = 1\n",
    "    gt.append(actual)\n",
    "    preds.append(pred)"
   ]
  },
  {
   "cell_type": "code",
   "execution_count": 775,
   "metadata": {},
   "outputs": [
    {
     "name": "stdout",
     "output_type": "stream",
     "text": [
      "159\n"
     ]
    }
   ],
   "source": [
    "# Print the number of misclassifications\n",
    "misc = 0\n",
    "for i in range(len(gt)):\n",
    "    if gt[i] != preds[i]:\n",
    "        misc += 1\n",
    "\n",
    "print(misc)"
   ]
  },
  {
   "cell_type": "code",
   "execution_count": 776,
   "metadata": {
    "scrolled": true
   },
   "outputs": [
    {
     "name": "stdout",
     "output_type": "stream",
     "text": [
      "Classification Report:\n",
      "              precision    recall  f1-score   support\n",
      "\n",
      "           0       0.85      0.86      0.85       533\n",
      "           1       0.86      0.84      0.85       533\n",
      "\n",
      "    accuracy                           0.85      1066\n",
      "   macro avg       0.85      0.85      0.85      1066\n",
      "weighted avg       0.85      0.85      0.85      1066\n",
      "\n"
     ]
    }
   ],
   "source": [
    "from sklearn.metrics import classification_report\n",
    "\n",
    "# Generate classification report\n",
    "report = classification_report(gt, preds)\n",
    "\n",
    "print(\"Classification Report:\")\n",
    "print(report)"
   ]
  },
  {
   "cell_type": "code",
   "execution_count": null,
   "metadata": {},
   "outputs": [],
   "source": []
  }
 ],
 "metadata": {
  "accelerator": "GPU",
  "colab": {
   "provenance": []
  },
  "gpuClass": "standard",
  "kernelspec": {
   "display_name": "Python 3 (ipykernel)",
   "language": "python",
   "name": "python3"
  },
  "language_info": {
   "codemirror_mode": {
    "name": "ipython",
    "version": 3
   },
   "file_extension": ".py",
   "mimetype": "text/x-python",
   "name": "python",
   "nbconvert_exporter": "python",
   "pygments_lexer": "ipython3",
   "version": "3.8.10"
  }
 },
 "nbformat": 4,
 "nbformat_minor": 4
}
