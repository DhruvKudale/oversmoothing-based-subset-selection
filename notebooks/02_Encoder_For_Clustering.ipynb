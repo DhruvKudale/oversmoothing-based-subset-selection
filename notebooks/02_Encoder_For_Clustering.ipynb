{
 "cells": [
  {
   "cell_type": "code",
   "execution_count": 17,
   "id": "6d43cf6f",
   "metadata": {},
   "outputs": [],
   "source": [
    "import torch\n",
    "import torch.nn as nn"
   ]
  },
  {
   "cell_type": "code",
   "execution_count": 40,
   "id": "982b44db",
   "metadata": {},
   "outputs": [
    {
     "name": "stdout",
     "output_type": "stream",
     "text": [
      "Output signal after 1D convolution: [2.0, 3.0, 4.0, 4.75, 4.75, 4.0, 3.0, 2.0]\n"
     ]
    }
   ],
   "source": [
    "def conv1d(input_signal, kernel):\n",
    "    # Low pass filter\n",
    "    input_len = len(input_signal)\n",
    "    kernel_len = len(kernel)\n",
    "    output_len = input_len - kernel_len + 1\n",
    "    \n",
    "    # Initialize the output signal\n",
    "    output_signal = [0] * output_len\n",
    "    \n",
    "    # Perform convolution\n",
    "    for i in range(output_len):\n",
    "        output_signal[i] = sum(x * y for x, y in zip(input_signal[i:i+kernel_len], kernel))\n",
    "    \n",
    "    return output_signal"
   ]
  },
  {
   "cell_type": "code",
   "execution_count": 42,
   "id": "8f725cbf",
   "metadata": {},
   "outputs": [],
   "source": [
    "def output_cnn(num_layers, input_vector, kernel):\n",
    "    temp = input_vector\n",
    "    for i in range(num_layers):\n",
    "        hidden = conv1d(temp, kernel)\n",
    "        temp = hidden\n",
    "    output = hidden\n",
    "    return output"
   ]
  },
  {
   "cell_type": "code",
   "execution_count": 49,
   "id": "bc3f9946",
   "metadata": {},
   "outputs": [
    {
     "name": "stdout",
     "output_type": "stream",
     "text": [
      "Output signal after 1D convolution: [4.26953125, 4.26953125]\n"
     ]
    }
   ],
   "source": [
    "# Example usage:\n",
    "input_vector = [1, 2, 3, 4, 5, 5, 4, 3, 2, 1] \n",
    "kernel = [0.25, 0.5, 0.25]  # Example kernel\n",
    "num_layers = 4\n",
    "\n",
    "output_signal = output_cnn(num_layers, input_vector, kernel)\n",
    "print(\"Output signal after 1D convolution:\", output_signal)"
   ]
  },
  {
   "cell_type": "markdown",
   "id": "11110888",
   "metadata": {},
   "source": [
    "### Read Data"
   ]
  },
  {
   "cell_type": "code",
   "execution_count": 50,
   "id": "54b77b23",
   "metadata": {},
   "outputs": [],
   "source": [
    "import pickle\n",
    "import numpy as np\n",
    "from datasets import load_dataset\n",
    "import tqdm\n",
    "import math"
   ]
  },
  {
   "cell_type": "code",
   "execution_count": 62,
   "id": "aae12725",
   "metadata": {},
   "outputs": [],
   "source": [
    "dataset = load_dataset(\"glue\", \"sst2\")\n",
    "train_dataset = dataset[\"train\"]\n",
    "val_dataset = dataset[\"validation\"]\n",
    "test_dataset = dataset[\"test\"]"
   ]
  },
  {
   "cell_type": "code",
   "execution_count": 121,
   "id": "f2ddce14",
   "metadata": {},
   "outputs": [],
   "source": [
    "# Read pkl file \n",
    "with open('sst-train-768.pkl', 'rb') as f:\n",
    "    vectors = pickle.load(f)"
   ]
  },
  {
   "cell_type": "code",
   "execution_count": 122,
   "id": "2c2eaf66",
   "metadata": {},
   "outputs": [],
   "source": [
    "def average_distance_between_vectors(vectors):\n",
    "    \"\"\"\n",
    "    Calculate the average distance between all pairs of vectors within a set.\n",
    "\n",
    "    Parameters:\n",
    "    vectors (numpy.ndarray): A 2D numpy array where each row represents a vector.\n",
    "\n",
    "    Returns:\n",
    "    float: The average distance between all pairs of vectors.\n",
    "    \"\"\"\n",
    "    # Calculate pairwise distances using broadcasting\n",
    "    pairwise_distances = np.linalg.norm(vectors[:, None] - vectors, axis=-1)\n",
    "    \n",
    "    # Exclude diagonal elements (distances between the same vectors)\n",
    "    pairwise_distances = np.triu(pairwise_distances, k=1)\n",
    "    \n",
    "    # Calculate the average distance\n",
    "    average_distance = np.mean(pairwise_distances)\n",
    "    \n",
    "    return average_distance"
   ]
  },
  {
   "cell_type": "code",
   "execution_count": 125,
   "id": "b192381b",
   "metadata": {},
   "outputs": [],
   "source": [
    "def get_avg_distance_based_on_layers(N, vectors, kernel):\n",
    "    X = []\n",
    "    for i in tqdm.tqdm(range(len(vectors))):\n",
    "        # Sample usage\n",
    "        input_sequence = output_cnn(N, vectors[i], kernel)\n",
    "        X.append(input_sequence)\n",
    "\n",
    "    X_np = np.array(X)\n",
    "    std = np.mean(np.std(X_np, axis = 0) ** 2)\n",
    "    return std"
   ]
  },
  {
   "cell_type": "code",
   "execution_count": 126,
   "id": "df07fa58",
   "metadata": {},
   "outputs": [
    {
     "name": "stderr",
     "output_type": "stream",
     "text": [
      "100%|██████████| 67480/67480 [02:58<00:00, 378.58it/s]\n"
     ]
    },
    {
     "name": "stdout",
     "output_type": "stream",
     "text": [
      "1\n",
      "3.6443162740708483e-28\n"
     ]
    },
    {
     "name": "stderr",
     "output_type": "stream",
     "text": [
      "100%|██████████| 67480/67480 [03:28<00:00, 323.18it/s]\n"
     ]
    },
    {
     "name": "stdout",
     "output_type": "stream",
     "text": [
      "2\n",
      "2.0872327584549193e-28\n"
     ]
    },
    {
     "name": "stderr",
     "output_type": "stream",
     "text": [
      "100%|██████████| 67480/67480 [04:28<00:00, 251.08it/s]\n"
     ]
    },
    {
     "name": "stdout",
     "output_type": "stream",
     "text": [
      "4\n",
      "1.4722671169434009e-28\n"
     ]
    },
    {
     "name": "stderr",
     "output_type": "stream",
     "text": [
      "100%|██████████| 67480/67480 [06:27<00:00, 174.03it/s]\n"
     ]
    },
    {
     "name": "stdout",
     "output_type": "stream",
     "text": [
      "8\n",
      "1.1172032943710324e-28\n"
     ]
    },
    {
     "name": "stderr",
     "output_type": "stream",
     "text": [
      " 81%|████████  | 54494/67480 [08:13<01:56, 111.81it/s]IOPub message rate exceeded.\n",
      "The notebook server will temporarily stop sending output\n",
      "to the client in order to avoid crashing it.\n",
      "To change this limit, set the config variable\n",
      "`--NotebookApp.iopub_msg_rate_limit`.\n",
      "\n",
      "Current values:\n",
      "NotebookApp.iopub_msg_rate_limit=1000.0 (msgs/sec)\n",
      "NotebookApp.rate_limit_window=3.0 (secs)\n",
      "\n",
      "100%|██████████| 67480/67480 [1:05:24<00:00, 17.19it/s]    \n"
     ]
    },
    {
     "name": "stdout",
     "output_type": "stream",
     "text": [
      "16\n",
      "6.111560807540266e-29\n"
     ]
    },
    {
     "name": "stderr",
     "output_type": "stream",
     "text": [
      "100%|██████████| 67480/67480 [17:25<00:00, 64.54it/s]\n"
     ]
    },
    {
     "name": "stdout",
     "output_type": "stream",
     "text": [
      "32\n",
      "2.946367262636431e-29\n"
     ]
    }
   ],
   "source": [
    "num_layers = [1, 2, 4, 8, 16, 32]\n",
    "kernel = [0.33, 0.33, 0.33] \n",
    "for N in num_layers:\n",
    "    dist = get_avg_distance_based_on_layers(N, vectors, kernel)\n",
    "    print(N)\n",
    "    print(dist)"
   ]
  },
  {
   "cell_type": "code",
   "execution_count": null,
   "id": "71bd8fe1",
   "metadata": {},
   "outputs": [],
   "source": []
  }
 ],
 "metadata": {
  "kernelspec": {
   "display_name": "Python 3 (ipykernel)",
   "language": "python",
   "name": "python3"
  },
  "language_info": {
   "codemirror_mode": {
    "name": "ipython",
    "version": 3
   },
   "file_extension": ".py",
   "mimetype": "text/x-python",
   "name": "python",
   "nbconvert_exporter": "python",
   "pygments_lexer": "ipython3",
   "version": "3.8.10"
  }
 },
 "nbformat": 4,
 "nbformat_minor": 5
}
